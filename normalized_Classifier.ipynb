{
  "nbformat": 4,
  "nbformat_minor": 0,
  "metadata": {
    "colab": {
      "name": "normalized_Classifier.ipynb",
      "provenance": [],
      "collapsed_sections": [],
      "toc_visible": true,
      "machine_shape": "hm"
    },
    "kernelspec": {
      "name": "python3",
      "display_name": "Python 3"
    },
    "accelerator": "GPU",
    "widgets": {
      "application/vnd.jupyter.widget-state+json": {
        "ff427887a7034ff3b70837e0f43dc09a": {
          "model_module": "@jupyter-widgets/controls",
          "model_name": "HBoxModel",
          "state": {
            "_view_name": "HBoxView",
            "_dom_classes": [],
            "_model_name": "HBoxModel",
            "_view_module": "@jupyter-widgets/controls",
            "_model_module_version": "1.5.0",
            "_view_count": null,
            "_view_module_version": "1.5.0",
            "box_style": "",
            "layout": "IPY_MODEL_fdf05fcd23af423fbd0e551e49b9bd04",
            "_model_module": "@jupyter-widgets/controls",
            "children": [
              "IPY_MODEL_c420222e18a74fc99c6888673edd54e2",
              "IPY_MODEL_87c0b8259dce49b2be9bf04db2a6b7e1"
            ]
          }
        },
        "fdf05fcd23af423fbd0e551e49b9bd04": {
          "model_module": "@jupyter-widgets/base",
          "model_name": "LayoutModel",
          "state": {
            "_view_name": "LayoutView",
            "grid_template_rows": null,
            "right": null,
            "justify_content": null,
            "_view_module": "@jupyter-widgets/base",
            "overflow": null,
            "_model_module_version": "1.2.0",
            "_view_count": null,
            "flex_flow": null,
            "width": null,
            "min_width": null,
            "border": null,
            "align_items": null,
            "bottom": null,
            "_model_module": "@jupyter-widgets/base",
            "top": null,
            "grid_column": null,
            "overflow_y": null,
            "overflow_x": null,
            "grid_auto_flow": null,
            "grid_area": null,
            "grid_template_columns": null,
            "flex": null,
            "_model_name": "LayoutModel",
            "justify_items": null,
            "grid_row": null,
            "max_height": null,
            "align_content": null,
            "visibility": null,
            "align_self": null,
            "height": null,
            "min_height": null,
            "padding": null,
            "grid_auto_rows": null,
            "grid_gap": null,
            "max_width": null,
            "order": null,
            "_view_module_version": "1.2.0",
            "grid_template_areas": null,
            "object_position": null,
            "object_fit": null,
            "grid_auto_columns": null,
            "margin": null,
            "display": null,
            "left": null
          }
        },
        "c420222e18a74fc99c6888673edd54e2": {
          "model_module": "@jupyter-widgets/controls",
          "model_name": "IntProgressModel",
          "state": {
            "_view_name": "ProgressView",
            "style": "IPY_MODEL_34f7ef1e4bd945068faa0b81e6f27bbd",
            "_dom_classes": [],
            "description": "100%",
            "_model_name": "IntProgressModel",
            "bar_style": "success",
            "max": 20,
            "_view_module": "@jupyter-widgets/controls",
            "_model_module_version": "1.5.0",
            "value": 20,
            "_view_count": null,
            "_view_module_version": "1.5.0",
            "orientation": "horizontal",
            "min": 0,
            "description_tooltip": null,
            "_model_module": "@jupyter-widgets/controls",
            "layout": "IPY_MODEL_742e8bb86f3c4e7fae12857d969ce15f"
          }
        },
        "87c0b8259dce49b2be9bf04db2a6b7e1": {
          "model_module": "@jupyter-widgets/controls",
          "model_name": "HTMLModel",
          "state": {
            "_view_name": "HTMLView",
            "style": "IPY_MODEL_5b7b3b42a1614c5d94abf59eb1afa31b",
            "_dom_classes": [],
            "description": "",
            "_model_name": "HTMLModel",
            "placeholder": "​",
            "_view_module": "@jupyter-widgets/controls",
            "_model_module_version": "1.5.0",
            "value": " 20/20 [02:41&lt;00:00,  8.08s/it]",
            "_view_count": null,
            "_view_module_version": "1.5.0",
            "description_tooltip": null,
            "_model_module": "@jupyter-widgets/controls",
            "layout": "IPY_MODEL_f24660eb8d464a6eb81e84f5b3883186"
          }
        },
        "34f7ef1e4bd945068faa0b81e6f27bbd": {
          "model_module": "@jupyter-widgets/controls",
          "model_name": "ProgressStyleModel",
          "state": {
            "_view_name": "StyleView",
            "_model_name": "ProgressStyleModel",
            "description_width": "initial",
            "_view_module": "@jupyter-widgets/base",
            "_model_module_version": "1.5.0",
            "_view_count": null,
            "_view_module_version": "1.2.0",
            "bar_color": null,
            "_model_module": "@jupyter-widgets/controls"
          }
        },
        "742e8bb86f3c4e7fae12857d969ce15f": {
          "model_module": "@jupyter-widgets/base",
          "model_name": "LayoutModel",
          "state": {
            "_view_name": "LayoutView",
            "grid_template_rows": null,
            "right": null,
            "justify_content": null,
            "_view_module": "@jupyter-widgets/base",
            "overflow": null,
            "_model_module_version": "1.2.0",
            "_view_count": null,
            "flex_flow": null,
            "width": null,
            "min_width": null,
            "border": null,
            "align_items": null,
            "bottom": null,
            "_model_module": "@jupyter-widgets/base",
            "top": null,
            "grid_column": null,
            "overflow_y": null,
            "overflow_x": null,
            "grid_auto_flow": null,
            "grid_area": null,
            "grid_template_columns": null,
            "flex": null,
            "_model_name": "LayoutModel",
            "justify_items": null,
            "grid_row": null,
            "max_height": null,
            "align_content": null,
            "visibility": null,
            "align_self": null,
            "height": null,
            "min_height": null,
            "padding": null,
            "grid_auto_rows": null,
            "grid_gap": null,
            "max_width": null,
            "order": null,
            "_view_module_version": "1.2.0",
            "grid_template_areas": null,
            "object_position": null,
            "object_fit": null,
            "grid_auto_columns": null,
            "margin": null,
            "display": null,
            "left": null
          }
        },
        "5b7b3b42a1614c5d94abf59eb1afa31b": {
          "model_module": "@jupyter-widgets/controls",
          "model_name": "DescriptionStyleModel",
          "state": {
            "_view_name": "StyleView",
            "_model_name": "DescriptionStyleModel",
            "description_width": "",
            "_view_module": "@jupyter-widgets/base",
            "_model_module_version": "1.5.0",
            "_view_count": null,
            "_view_module_version": "1.2.0",
            "_model_module": "@jupyter-widgets/controls"
          }
        },
        "f24660eb8d464a6eb81e84f5b3883186": {
          "model_module": "@jupyter-widgets/base",
          "model_name": "LayoutModel",
          "state": {
            "_view_name": "LayoutView",
            "grid_template_rows": null,
            "right": null,
            "justify_content": null,
            "_view_module": "@jupyter-widgets/base",
            "overflow": null,
            "_model_module_version": "1.2.0",
            "_view_count": null,
            "flex_flow": null,
            "width": null,
            "min_width": null,
            "border": null,
            "align_items": null,
            "bottom": null,
            "_model_module": "@jupyter-widgets/base",
            "top": null,
            "grid_column": null,
            "overflow_y": null,
            "overflow_x": null,
            "grid_auto_flow": null,
            "grid_area": null,
            "grid_template_columns": null,
            "flex": null,
            "_model_name": "LayoutModel",
            "justify_items": null,
            "grid_row": null,
            "max_height": null,
            "align_content": null,
            "visibility": null,
            "align_self": null,
            "height": null,
            "min_height": null,
            "padding": null,
            "grid_auto_rows": null,
            "grid_gap": null,
            "max_width": null,
            "order": null,
            "_view_module_version": "1.2.0",
            "grid_template_areas": null,
            "object_position": null,
            "object_fit": null,
            "grid_auto_columns": null,
            "margin": null,
            "display": null,
            "left": null
          }
        },
        "c6cbec4476224931a0268d9b0f5357e7": {
          "model_module": "@jupyter-widgets/controls",
          "model_name": "HBoxModel",
          "state": {
            "_view_name": "HBoxView",
            "_dom_classes": [],
            "_model_name": "HBoxModel",
            "_view_module": "@jupyter-widgets/controls",
            "_model_module_version": "1.5.0",
            "_view_count": null,
            "_view_module_version": "1.5.0",
            "box_style": "",
            "layout": "IPY_MODEL_f90d4e9dca544452ac2e2d0b5e4b20be",
            "_model_module": "@jupyter-widgets/controls",
            "children": [
              "IPY_MODEL_b477dbded2bd42998251f372b8207169",
              "IPY_MODEL_460d94bdb06c4d5d912c8be2bf0dde9c"
            ]
          }
        },
        "f90d4e9dca544452ac2e2d0b5e4b20be": {
          "model_module": "@jupyter-widgets/base",
          "model_name": "LayoutModel",
          "state": {
            "_view_name": "LayoutView",
            "grid_template_rows": null,
            "right": null,
            "justify_content": null,
            "_view_module": "@jupyter-widgets/base",
            "overflow": null,
            "_model_module_version": "1.2.0",
            "_view_count": null,
            "flex_flow": null,
            "width": null,
            "min_width": null,
            "border": null,
            "align_items": null,
            "bottom": null,
            "_model_module": "@jupyter-widgets/base",
            "top": null,
            "grid_column": null,
            "overflow_y": null,
            "overflow_x": null,
            "grid_auto_flow": null,
            "grid_area": null,
            "grid_template_columns": null,
            "flex": null,
            "_model_name": "LayoutModel",
            "justify_items": null,
            "grid_row": null,
            "max_height": null,
            "align_content": null,
            "visibility": null,
            "align_self": null,
            "height": null,
            "min_height": null,
            "padding": null,
            "grid_auto_rows": null,
            "grid_gap": null,
            "max_width": null,
            "order": null,
            "_view_module_version": "1.2.0",
            "grid_template_areas": null,
            "object_position": null,
            "object_fit": null,
            "grid_auto_columns": null,
            "margin": null,
            "display": null,
            "left": null
          }
        },
        "b477dbded2bd42998251f372b8207169": {
          "model_module": "@jupyter-widgets/controls",
          "model_name": "IntProgressModel",
          "state": {
            "_view_name": "ProgressView",
            "style": "IPY_MODEL_bd3992fd10fe47228a4ceccdaeabeede",
            "_dom_classes": [],
            "description": "100%",
            "_model_name": "IntProgressModel",
            "bar_style": "success",
            "max": 20,
            "_view_module": "@jupyter-widgets/controls",
            "_model_module_version": "1.5.0",
            "value": 20,
            "_view_count": null,
            "_view_module_version": "1.5.0",
            "orientation": "horizontal",
            "min": 0,
            "description_tooltip": null,
            "_model_module": "@jupyter-widgets/controls",
            "layout": "IPY_MODEL_9fbdd7f4b9d5436ea04bc1041d5967b1"
          }
        },
        "460d94bdb06c4d5d912c8be2bf0dde9c": {
          "model_module": "@jupyter-widgets/controls",
          "model_name": "HTMLModel",
          "state": {
            "_view_name": "HTMLView",
            "style": "IPY_MODEL_b9c4734d688c4578b7b7294e85da68d4",
            "_dom_classes": [],
            "description": "",
            "_model_name": "HTMLModel",
            "placeholder": "​",
            "_view_module": "@jupyter-widgets/controls",
            "_model_module_version": "1.5.0",
            "value": " 20/20 [02:41&lt;00:00,  8.06s/it]",
            "_view_count": null,
            "_view_module_version": "1.5.0",
            "description_tooltip": null,
            "_model_module": "@jupyter-widgets/controls",
            "layout": "IPY_MODEL_ce8d9846275044b6a22054fbb3d6e01b"
          }
        },
        "bd3992fd10fe47228a4ceccdaeabeede": {
          "model_module": "@jupyter-widgets/controls",
          "model_name": "ProgressStyleModel",
          "state": {
            "_view_name": "StyleView",
            "_model_name": "ProgressStyleModel",
            "description_width": "initial",
            "_view_module": "@jupyter-widgets/base",
            "_model_module_version": "1.5.0",
            "_view_count": null,
            "_view_module_version": "1.2.0",
            "bar_color": null,
            "_model_module": "@jupyter-widgets/controls"
          }
        },
        "9fbdd7f4b9d5436ea04bc1041d5967b1": {
          "model_module": "@jupyter-widgets/base",
          "model_name": "LayoutModel",
          "state": {
            "_view_name": "LayoutView",
            "grid_template_rows": null,
            "right": null,
            "justify_content": null,
            "_view_module": "@jupyter-widgets/base",
            "overflow": null,
            "_model_module_version": "1.2.0",
            "_view_count": null,
            "flex_flow": null,
            "width": null,
            "min_width": null,
            "border": null,
            "align_items": null,
            "bottom": null,
            "_model_module": "@jupyter-widgets/base",
            "top": null,
            "grid_column": null,
            "overflow_y": null,
            "overflow_x": null,
            "grid_auto_flow": null,
            "grid_area": null,
            "grid_template_columns": null,
            "flex": null,
            "_model_name": "LayoutModel",
            "justify_items": null,
            "grid_row": null,
            "max_height": null,
            "align_content": null,
            "visibility": null,
            "align_self": null,
            "height": null,
            "min_height": null,
            "padding": null,
            "grid_auto_rows": null,
            "grid_gap": null,
            "max_width": null,
            "order": null,
            "_view_module_version": "1.2.0",
            "grid_template_areas": null,
            "object_position": null,
            "object_fit": null,
            "grid_auto_columns": null,
            "margin": null,
            "display": null,
            "left": null
          }
        },
        "b9c4734d688c4578b7b7294e85da68d4": {
          "model_module": "@jupyter-widgets/controls",
          "model_name": "DescriptionStyleModel",
          "state": {
            "_view_name": "StyleView",
            "_model_name": "DescriptionStyleModel",
            "description_width": "",
            "_view_module": "@jupyter-widgets/base",
            "_model_module_version": "1.5.0",
            "_view_count": null,
            "_view_module_version": "1.2.0",
            "_model_module": "@jupyter-widgets/controls"
          }
        },
        "ce8d9846275044b6a22054fbb3d6e01b": {
          "model_module": "@jupyter-widgets/base",
          "model_name": "LayoutModel",
          "state": {
            "_view_name": "LayoutView",
            "grid_template_rows": null,
            "right": null,
            "justify_content": null,
            "_view_module": "@jupyter-widgets/base",
            "overflow": null,
            "_model_module_version": "1.2.0",
            "_view_count": null,
            "flex_flow": null,
            "width": null,
            "min_width": null,
            "border": null,
            "align_items": null,
            "bottom": null,
            "_model_module": "@jupyter-widgets/base",
            "top": null,
            "grid_column": null,
            "overflow_y": null,
            "overflow_x": null,
            "grid_auto_flow": null,
            "grid_area": null,
            "grid_template_columns": null,
            "flex": null,
            "_model_name": "LayoutModel",
            "justify_items": null,
            "grid_row": null,
            "max_height": null,
            "align_content": null,
            "visibility": null,
            "align_self": null,
            "height": null,
            "min_height": null,
            "padding": null,
            "grid_auto_rows": null,
            "grid_gap": null,
            "max_width": null,
            "order": null,
            "_view_module_version": "1.2.0",
            "grid_template_areas": null,
            "object_position": null,
            "object_fit": null,
            "grid_auto_columns": null,
            "margin": null,
            "display": null,
            "left": null
          }
        },
        "2bc0d93d1229418eb947676cf7106136": {
          "model_module": "@jupyter-widgets/controls",
          "model_name": "HBoxModel",
          "state": {
            "_view_name": "HBoxView",
            "_dom_classes": [],
            "_model_name": "HBoxModel",
            "_view_module": "@jupyter-widgets/controls",
            "_model_module_version": "1.5.0",
            "_view_count": null,
            "_view_module_version": "1.5.0",
            "box_style": "",
            "layout": "IPY_MODEL_e12d1de3c8ec49479c9474869c943081",
            "_model_module": "@jupyter-widgets/controls",
            "children": [
              "IPY_MODEL_c96252cf47384e4b89fc2e5208421f50",
              "IPY_MODEL_68eacf908c394eca904e1bcfa4633f5c"
            ]
          }
        },
        "e12d1de3c8ec49479c9474869c943081": {
          "model_module": "@jupyter-widgets/base",
          "model_name": "LayoutModel",
          "state": {
            "_view_name": "LayoutView",
            "grid_template_rows": null,
            "right": null,
            "justify_content": null,
            "_view_module": "@jupyter-widgets/base",
            "overflow": null,
            "_model_module_version": "1.2.0",
            "_view_count": null,
            "flex_flow": null,
            "width": null,
            "min_width": null,
            "border": null,
            "align_items": null,
            "bottom": null,
            "_model_module": "@jupyter-widgets/base",
            "top": null,
            "grid_column": null,
            "overflow_y": null,
            "overflow_x": null,
            "grid_auto_flow": null,
            "grid_area": null,
            "grid_template_columns": null,
            "flex": null,
            "_model_name": "LayoutModel",
            "justify_items": null,
            "grid_row": null,
            "max_height": null,
            "align_content": null,
            "visibility": null,
            "align_self": null,
            "height": null,
            "min_height": null,
            "padding": null,
            "grid_auto_rows": null,
            "grid_gap": null,
            "max_width": null,
            "order": null,
            "_view_module_version": "1.2.0",
            "grid_template_areas": null,
            "object_position": null,
            "object_fit": null,
            "grid_auto_columns": null,
            "margin": null,
            "display": null,
            "left": null
          }
        },
        "c96252cf47384e4b89fc2e5208421f50": {
          "model_module": "@jupyter-widgets/controls",
          "model_name": "IntProgressModel",
          "state": {
            "_view_name": "ProgressView",
            "style": "IPY_MODEL_c3cc50d563074b7b9e75919aa03767ff",
            "_dom_classes": [],
            "description": "100%",
            "_model_name": "IntProgressModel",
            "bar_style": "success",
            "max": 20,
            "_view_module": "@jupyter-widgets/controls",
            "_model_module_version": "1.5.0",
            "value": 20,
            "_view_count": null,
            "_view_module_version": "1.5.0",
            "orientation": "horizontal",
            "min": 0,
            "description_tooltip": null,
            "_model_module": "@jupyter-widgets/controls",
            "layout": "IPY_MODEL_e7e5d65504344a76b69fd1032a48a0b2"
          }
        },
        "68eacf908c394eca904e1bcfa4633f5c": {
          "model_module": "@jupyter-widgets/controls",
          "model_name": "HTMLModel",
          "state": {
            "_view_name": "HTMLView",
            "style": "IPY_MODEL_ec937a1bd0ec4b9bbb071c3936f8837b",
            "_dom_classes": [],
            "description": "",
            "_model_name": "HTMLModel",
            "placeholder": "​",
            "_view_module": "@jupyter-widgets/controls",
            "_model_module_version": "1.5.0",
            "value": " 20/20 [04:03&lt;00:00, 12.19s/it]",
            "_view_count": null,
            "_view_module_version": "1.5.0",
            "description_tooltip": null,
            "_model_module": "@jupyter-widgets/controls",
            "layout": "IPY_MODEL_01c30bb2ec5a48a09460487d0fc709fb"
          }
        },
        "c3cc50d563074b7b9e75919aa03767ff": {
          "model_module": "@jupyter-widgets/controls",
          "model_name": "ProgressStyleModel",
          "state": {
            "_view_name": "StyleView",
            "_model_name": "ProgressStyleModel",
            "description_width": "initial",
            "_view_module": "@jupyter-widgets/base",
            "_model_module_version": "1.5.0",
            "_view_count": null,
            "_view_module_version": "1.2.0",
            "bar_color": null,
            "_model_module": "@jupyter-widgets/controls"
          }
        },
        "e7e5d65504344a76b69fd1032a48a0b2": {
          "model_module": "@jupyter-widgets/base",
          "model_name": "LayoutModel",
          "state": {
            "_view_name": "LayoutView",
            "grid_template_rows": null,
            "right": null,
            "justify_content": null,
            "_view_module": "@jupyter-widgets/base",
            "overflow": null,
            "_model_module_version": "1.2.0",
            "_view_count": null,
            "flex_flow": null,
            "width": null,
            "min_width": null,
            "border": null,
            "align_items": null,
            "bottom": null,
            "_model_module": "@jupyter-widgets/base",
            "top": null,
            "grid_column": null,
            "overflow_y": null,
            "overflow_x": null,
            "grid_auto_flow": null,
            "grid_area": null,
            "grid_template_columns": null,
            "flex": null,
            "_model_name": "LayoutModel",
            "justify_items": null,
            "grid_row": null,
            "max_height": null,
            "align_content": null,
            "visibility": null,
            "align_self": null,
            "height": null,
            "min_height": null,
            "padding": null,
            "grid_auto_rows": null,
            "grid_gap": null,
            "max_width": null,
            "order": null,
            "_view_module_version": "1.2.0",
            "grid_template_areas": null,
            "object_position": null,
            "object_fit": null,
            "grid_auto_columns": null,
            "margin": null,
            "display": null,
            "left": null
          }
        },
        "ec937a1bd0ec4b9bbb071c3936f8837b": {
          "model_module": "@jupyter-widgets/controls",
          "model_name": "DescriptionStyleModel",
          "state": {
            "_view_name": "StyleView",
            "_model_name": "DescriptionStyleModel",
            "description_width": "",
            "_view_module": "@jupyter-widgets/base",
            "_model_module_version": "1.5.0",
            "_view_count": null,
            "_view_module_version": "1.2.0",
            "_model_module": "@jupyter-widgets/controls"
          }
        },
        "01c30bb2ec5a48a09460487d0fc709fb": {
          "model_module": "@jupyter-widgets/base",
          "model_name": "LayoutModel",
          "state": {
            "_view_name": "LayoutView",
            "grid_template_rows": null,
            "right": null,
            "justify_content": null,
            "_view_module": "@jupyter-widgets/base",
            "overflow": null,
            "_model_module_version": "1.2.0",
            "_view_count": null,
            "flex_flow": null,
            "width": null,
            "min_width": null,
            "border": null,
            "align_items": null,
            "bottom": null,
            "_model_module": "@jupyter-widgets/base",
            "top": null,
            "grid_column": null,
            "overflow_y": null,
            "overflow_x": null,
            "grid_auto_flow": null,
            "grid_area": null,
            "grid_template_columns": null,
            "flex": null,
            "_model_name": "LayoutModel",
            "justify_items": null,
            "grid_row": null,
            "max_height": null,
            "align_content": null,
            "visibility": null,
            "align_self": null,
            "height": null,
            "min_height": null,
            "padding": null,
            "grid_auto_rows": null,
            "grid_gap": null,
            "max_width": null,
            "order": null,
            "_view_module_version": "1.2.0",
            "grid_template_areas": null,
            "object_position": null,
            "object_fit": null,
            "grid_auto_columns": null,
            "margin": null,
            "display": null,
            "left": null
          }
        },
        "8c8b689587a0406bb53ff211b2843f5f": {
          "model_module": "@jupyter-widgets/controls",
          "model_name": "HBoxModel",
          "state": {
            "_view_name": "HBoxView",
            "_dom_classes": [],
            "_model_name": "HBoxModel",
            "_view_module": "@jupyter-widgets/controls",
            "_model_module_version": "1.5.0",
            "_view_count": null,
            "_view_module_version": "1.5.0",
            "box_style": "",
            "layout": "IPY_MODEL_6dabeaac7d67400894b952c088b0b3b5",
            "_model_module": "@jupyter-widgets/controls",
            "children": [
              "IPY_MODEL_b6b56b126ea74e23972f33ede8e46c5a",
              "IPY_MODEL_be960ddaa2b244d7a19a97ba4ba250eb"
            ]
          }
        },
        "6dabeaac7d67400894b952c088b0b3b5": {
          "model_module": "@jupyter-widgets/base",
          "model_name": "LayoutModel",
          "state": {
            "_view_name": "LayoutView",
            "grid_template_rows": null,
            "right": null,
            "justify_content": null,
            "_view_module": "@jupyter-widgets/base",
            "overflow": null,
            "_model_module_version": "1.2.0",
            "_view_count": null,
            "flex_flow": null,
            "width": null,
            "min_width": null,
            "border": null,
            "align_items": null,
            "bottom": null,
            "_model_module": "@jupyter-widgets/base",
            "top": null,
            "grid_column": null,
            "overflow_y": null,
            "overflow_x": null,
            "grid_auto_flow": null,
            "grid_area": null,
            "grid_template_columns": null,
            "flex": null,
            "_model_name": "LayoutModel",
            "justify_items": null,
            "grid_row": null,
            "max_height": null,
            "align_content": null,
            "visibility": null,
            "align_self": null,
            "height": null,
            "min_height": null,
            "padding": null,
            "grid_auto_rows": null,
            "grid_gap": null,
            "max_width": null,
            "order": null,
            "_view_module_version": "1.2.0",
            "grid_template_areas": null,
            "object_position": null,
            "object_fit": null,
            "grid_auto_columns": null,
            "margin": null,
            "display": null,
            "left": null
          }
        },
        "b6b56b126ea74e23972f33ede8e46c5a": {
          "model_module": "@jupyter-widgets/controls",
          "model_name": "IntProgressModel",
          "state": {
            "_view_name": "ProgressView",
            "style": "IPY_MODEL_cacee5fe2beb42a6adfdc4f647ffb6f1",
            "_dom_classes": [],
            "description": "  0%",
            "_model_name": "IntProgressModel",
            "bar_style": "danger",
            "max": 20,
            "_view_module": "@jupyter-widgets/controls",
            "_model_module_version": "1.5.0",
            "value": 0,
            "_view_count": null,
            "_view_module_version": "1.5.0",
            "orientation": "horizontal",
            "min": 0,
            "description_tooltip": null,
            "_model_module": "@jupyter-widgets/controls",
            "layout": "IPY_MODEL_05ce4b782e664ff0b11fbfb4be7a76a9"
          }
        },
        "be960ddaa2b244d7a19a97ba4ba250eb": {
          "model_module": "@jupyter-widgets/controls",
          "model_name": "HTMLModel",
          "state": {
            "_view_name": "HTMLView",
            "style": "IPY_MODEL_53b7b490dac948da8cd8a42f60b6081a",
            "_dom_classes": [],
            "description": "",
            "_model_name": "HTMLModel",
            "placeholder": "​",
            "_view_module": "@jupyter-widgets/controls",
            "_model_module_version": "1.5.0",
            "value": " 0/20 [00:00&lt;?, ?it/s]",
            "_view_count": null,
            "_view_module_version": "1.5.0",
            "description_tooltip": null,
            "_model_module": "@jupyter-widgets/controls",
            "layout": "IPY_MODEL_1af39b83bf0841fb89f0ab551199518e"
          }
        },
        "cacee5fe2beb42a6adfdc4f647ffb6f1": {
          "model_module": "@jupyter-widgets/controls",
          "model_name": "ProgressStyleModel",
          "state": {
            "_view_name": "StyleView",
            "_model_name": "ProgressStyleModel",
            "description_width": "initial",
            "_view_module": "@jupyter-widgets/base",
            "_model_module_version": "1.5.0",
            "_view_count": null,
            "_view_module_version": "1.2.0",
            "bar_color": null,
            "_model_module": "@jupyter-widgets/controls"
          }
        },
        "05ce4b782e664ff0b11fbfb4be7a76a9": {
          "model_module": "@jupyter-widgets/base",
          "model_name": "LayoutModel",
          "state": {
            "_view_name": "LayoutView",
            "grid_template_rows": null,
            "right": null,
            "justify_content": null,
            "_view_module": "@jupyter-widgets/base",
            "overflow": null,
            "_model_module_version": "1.2.0",
            "_view_count": null,
            "flex_flow": null,
            "width": null,
            "min_width": null,
            "border": null,
            "align_items": null,
            "bottom": null,
            "_model_module": "@jupyter-widgets/base",
            "top": null,
            "grid_column": null,
            "overflow_y": null,
            "overflow_x": null,
            "grid_auto_flow": null,
            "grid_area": null,
            "grid_template_columns": null,
            "flex": null,
            "_model_name": "LayoutModel",
            "justify_items": null,
            "grid_row": null,
            "max_height": null,
            "align_content": null,
            "visibility": null,
            "align_self": null,
            "height": null,
            "min_height": null,
            "padding": null,
            "grid_auto_rows": null,
            "grid_gap": null,
            "max_width": null,
            "order": null,
            "_view_module_version": "1.2.0",
            "grid_template_areas": null,
            "object_position": null,
            "object_fit": null,
            "grid_auto_columns": null,
            "margin": null,
            "display": null,
            "left": null
          }
        },
        "53b7b490dac948da8cd8a42f60b6081a": {
          "model_module": "@jupyter-widgets/controls",
          "model_name": "DescriptionStyleModel",
          "state": {
            "_view_name": "StyleView",
            "_model_name": "DescriptionStyleModel",
            "description_width": "",
            "_view_module": "@jupyter-widgets/base",
            "_model_module_version": "1.5.0",
            "_view_count": null,
            "_view_module_version": "1.2.0",
            "_model_module": "@jupyter-widgets/controls"
          }
        },
        "1af39b83bf0841fb89f0ab551199518e": {
          "model_module": "@jupyter-widgets/base",
          "model_name": "LayoutModel",
          "state": {
            "_view_name": "LayoutView",
            "grid_template_rows": null,
            "right": null,
            "justify_content": null,
            "_view_module": "@jupyter-widgets/base",
            "overflow": null,
            "_model_module_version": "1.2.0",
            "_view_count": null,
            "flex_flow": null,
            "width": null,
            "min_width": null,
            "border": null,
            "align_items": null,
            "bottom": null,
            "_model_module": "@jupyter-widgets/base",
            "top": null,
            "grid_column": null,
            "overflow_y": null,
            "overflow_x": null,
            "grid_auto_flow": null,
            "grid_area": null,
            "grid_template_columns": null,
            "flex": null,
            "_model_name": "LayoutModel",
            "justify_items": null,
            "grid_row": null,
            "max_height": null,
            "align_content": null,
            "visibility": null,
            "align_self": null,
            "height": null,
            "min_height": null,
            "padding": null,
            "grid_auto_rows": null,
            "grid_gap": null,
            "max_width": null,
            "order": null,
            "_view_module_version": "1.2.0",
            "grid_template_areas": null,
            "object_position": null,
            "object_fit": null,
            "grid_auto_columns": null,
            "margin": null,
            "display": null,
            "left": null
          }
        },
        "85191b160eea43f184f35865d5743e3f": {
          "model_module": "@jupyter-widgets/controls",
          "model_name": "HBoxModel",
          "state": {
            "_view_name": "HBoxView",
            "_dom_classes": [],
            "_model_name": "HBoxModel",
            "_view_module": "@jupyter-widgets/controls",
            "_model_module_version": "1.5.0",
            "_view_count": null,
            "_view_module_version": "1.5.0",
            "box_style": "",
            "layout": "IPY_MODEL_fba09e728a384f29baa879519ae00281",
            "_model_module": "@jupyter-widgets/controls",
            "children": [
              "IPY_MODEL_4c40f66a157d4415a77b5b6b4a0cfdf4",
              "IPY_MODEL_fa7fafdcbd414b2bb5881140fd772009"
            ]
          }
        },
        "fba09e728a384f29baa879519ae00281": {
          "model_module": "@jupyter-widgets/base",
          "model_name": "LayoutModel",
          "state": {
            "_view_name": "LayoutView",
            "grid_template_rows": null,
            "right": null,
            "justify_content": null,
            "_view_module": "@jupyter-widgets/base",
            "overflow": null,
            "_model_module_version": "1.2.0",
            "_view_count": null,
            "flex_flow": null,
            "width": null,
            "min_width": null,
            "border": null,
            "align_items": null,
            "bottom": null,
            "_model_module": "@jupyter-widgets/base",
            "top": null,
            "grid_column": null,
            "overflow_y": null,
            "overflow_x": null,
            "grid_auto_flow": null,
            "grid_area": null,
            "grid_template_columns": null,
            "flex": null,
            "_model_name": "LayoutModel",
            "justify_items": null,
            "grid_row": null,
            "max_height": null,
            "align_content": null,
            "visibility": null,
            "align_self": null,
            "height": null,
            "min_height": null,
            "padding": null,
            "grid_auto_rows": null,
            "grid_gap": null,
            "max_width": null,
            "order": null,
            "_view_module_version": "1.2.0",
            "grid_template_areas": null,
            "object_position": null,
            "object_fit": null,
            "grid_auto_columns": null,
            "margin": null,
            "display": null,
            "left": null
          }
        },
        "4c40f66a157d4415a77b5b6b4a0cfdf4": {
          "model_module": "@jupyter-widgets/controls",
          "model_name": "FloatProgressModel",
          "state": {
            "_view_name": "ProgressView",
            "style": "IPY_MODEL_38b63a556d0b47238d0a138c53bd38f3",
            "_dom_classes": [],
            "description": "100%",
            "_model_name": "FloatProgressModel",
            "bar_style": "success",
            "max": 20,
            "_view_module": "@jupyter-widgets/controls",
            "_model_module_version": "1.5.0",
            "value": 20,
            "_view_count": null,
            "_view_module_version": "1.5.0",
            "orientation": "horizontal",
            "min": 0,
            "description_tooltip": null,
            "_model_module": "@jupyter-widgets/controls",
            "layout": "IPY_MODEL_65ed6782afb940a68ef5a7a4cb0a8e53"
          }
        },
        "fa7fafdcbd414b2bb5881140fd772009": {
          "model_module": "@jupyter-widgets/controls",
          "model_name": "HTMLModel",
          "state": {
            "_view_name": "HTMLView",
            "style": "IPY_MODEL_81d861fbd06f41e990063115bc95a79e",
            "_dom_classes": [],
            "description": "",
            "_model_name": "HTMLModel",
            "placeholder": "​",
            "_view_module": "@jupyter-widgets/controls",
            "_model_module_version": "1.5.0",
            "value": " 20/20 [3:25:01&lt;00:00, 615.07s/it]",
            "_view_count": null,
            "_view_module_version": "1.5.0",
            "description_tooltip": null,
            "_model_module": "@jupyter-widgets/controls",
            "layout": "IPY_MODEL_e67e4a3e70c141f7b130d4adf3609cd0"
          }
        },
        "38b63a556d0b47238d0a138c53bd38f3": {
          "model_module": "@jupyter-widgets/controls",
          "model_name": "ProgressStyleModel",
          "state": {
            "_view_name": "StyleView",
            "_model_name": "ProgressStyleModel",
            "description_width": "initial",
            "_view_module": "@jupyter-widgets/base",
            "_model_module_version": "1.5.0",
            "_view_count": null,
            "_view_module_version": "1.2.0",
            "bar_color": null,
            "_model_module": "@jupyter-widgets/controls"
          }
        },
        "65ed6782afb940a68ef5a7a4cb0a8e53": {
          "model_module": "@jupyter-widgets/base",
          "model_name": "LayoutModel",
          "state": {
            "_view_name": "LayoutView",
            "grid_template_rows": null,
            "right": null,
            "justify_content": null,
            "_view_module": "@jupyter-widgets/base",
            "overflow": null,
            "_model_module_version": "1.2.0",
            "_view_count": null,
            "flex_flow": null,
            "width": null,
            "min_width": null,
            "border": null,
            "align_items": null,
            "bottom": null,
            "_model_module": "@jupyter-widgets/base",
            "top": null,
            "grid_column": null,
            "overflow_y": null,
            "overflow_x": null,
            "grid_auto_flow": null,
            "grid_area": null,
            "grid_template_columns": null,
            "flex": null,
            "_model_name": "LayoutModel",
            "justify_items": null,
            "grid_row": null,
            "max_height": null,
            "align_content": null,
            "visibility": null,
            "align_self": null,
            "height": null,
            "min_height": null,
            "padding": null,
            "grid_auto_rows": null,
            "grid_gap": null,
            "max_width": null,
            "order": null,
            "_view_module_version": "1.2.0",
            "grid_template_areas": null,
            "object_position": null,
            "object_fit": null,
            "grid_auto_columns": null,
            "margin": null,
            "display": null,
            "left": null
          }
        },
        "81d861fbd06f41e990063115bc95a79e": {
          "model_module": "@jupyter-widgets/controls",
          "model_name": "DescriptionStyleModel",
          "state": {
            "_view_name": "StyleView",
            "_model_name": "DescriptionStyleModel",
            "description_width": "",
            "_view_module": "@jupyter-widgets/base",
            "_model_module_version": "1.5.0",
            "_view_count": null,
            "_view_module_version": "1.2.0",
            "_model_module": "@jupyter-widgets/controls"
          }
        },
        "e67e4a3e70c141f7b130d4adf3609cd0": {
          "model_module": "@jupyter-widgets/base",
          "model_name": "LayoutModel",
          "state": {
            "_view_name": "LayoutView",
            "grid_template_rows": null,
            "right": null,
            "justify_content": null,
            "_view_module": "@jupyter-widgets/base",
            "overflow": null,
            "_model_module_version": "1.2.0",
            "_view_count": null,
            "flex_flow": null,
            "width": null,
            "min_width": null,
            "border": null,
            "align_items": null,
            "bottom": null,
            "_model_module": "@jupyter-widgets/base",
            "top": null,
            "grid_column": null,
            "overflow_y": null,
            "overflow_x": null,
            "grid_auto_flow": null,
            "grid_area": null,
            "grid_template_columns": null,
            "flex": null,
            "_model_name": "LayoutModel",
            "justify_items": null,
            "grid_row": null,
            "max_height": null,
            "align_content": null,
            "visibility": null,
            "align_self": null,
            "height": null,
            "min_height": null,
            "padding": null,
            "grid_auto_rows": null,
            "grid_gap": null,
            "max_width": null,
            "order": null,
            "_view_module_version": "1.2.0",
            "grid_template_areas": null,
            "object_position": null,
            "object_fit": null,
            "grid_auto_columns": null,
            "margin": null,
            "display": null,
            "left": null
          }
        }
      }
    }
  },
  "cells": [
    {
      "cell_type": "code",
      "metadata": {
        "id": "vDmwROencCL9",
        "colab_type": "code",
        "outputId": "87cdc991-1a4b-4e26-ee3a-0696f01204d3",
        "colab": {
          "base_uri": "https://localhost:8080/",
          "height": 122
        }
      },
      "source": [
        "from google.colab import drive\n",
        "drive.mount('/content/drive')"
      ],
      "execution_count": 2,
      "outputs": [
        {
          "output_type": "stream",
          "text": [
            "Go to this URL in a browser: https://accounts.google.com/o/oauth2/auth?client_id=947318989803-6bn6qk8qdgf4n4g3pfee6491hc0brc4i.apps.googleusercontent.com&redirect_uri=urn%3aietf%3awg%3aoauth%3a2.0%3aoob&response_type=code&scope=email%20https%3a%2f%2fwww.googleapis.com%2fauth%2fdocs.test%20https%3a%2f%2fwww.googleapis.com%2fauth%2fdrive%20https%3a%2f%2fwww.googleapis.com%2fauth%2fdrive.photos.readonly%20https%3a%2f%2fwww.googleapis.com%2fauth%2fpeopleapi.readonly\n",
            "\n",
            "Enter your authorization code:\n",
            "··········\n",
            "Mounted at /content/drive\n"
          ],
          "name": "stdout"
        }
      ]
    },
    {
      "cell_type": "code",
      "metadata": {
        "id": "1eZVxkLWg3QX",
        "colab_type": "code",
        "colab": {}
      },
      "source": [
        "import torch\n",
        "from os import path\n",
        "import pandas as pd\n",
        "import numpy as np\n",
        "from torch.utils.data import Dataset, DataLoader\n",
        "import torchvision.transforms as transforms\n",
        "import pickle\n",
        "from torch.utils.data._utils.collate import default_collate\n",
        "import gc\n",
        "import torch.nn as nn\n",
        "from matplotlib import pyplot as plt\n",
        "from tqdm.notebook import tqdm"
      ],
      "execution_count": 0,
      "outputs": []
    },
    {
      "cell_type": "code",
      "metadata": {
        "id": "vjXoqqLSzyP-",
        "colab_type": "code",
        "outputId": "482f65a2-2351-452f-c425-789b34c73ffe",
        "colab": {
          "base_uri": "https://localhost:8080/",
          "height": 34
        }
      },
      "source": [
        "use_cuda = torch.cuda.is_available()\n",
        "device = torch.device(\"cuda:0\" if use_cuda else \"cpu\")\n",
        "print(device)"
      ],
      "execution_count": 4,
      "outputs": [
        {
          "output_type": "stream",
          "text": [
            "cuda:0\n"
          ],
          "name": "stdout"
        }
      ]
    },
    {
      "cell_type": "markdown",
      "metadata": {
        "id": "v6kHN0orlkld",
        "colab_type": "text"
      },
      "source": [
        "# Experiments to run\n",
        "\n",
        "*   Softmax vs Sigmoid. If we're only taking the top prediction then softmax is probably better, but if we're doing multi-label then sigmoid might be better\n",
        "*  Datasets\n",
        "  * drug effects ~ 20%\n",
        "  * drug effects + pca crispr ~ 4%\n",
        "  * drug effects + autoencoder crispr\n",
        "  * drug effects + pca expression ~ 4%\n",
        "  * drug effects + autoencoder expression\n",
        "  * drug effects + pca expression & crispr ~ 3%\n",
        "  * drug effects + autoencoder expression & crispr\n",
        "* Usual hyperparameters\n",
        "* loss functions\n",
        "  * **Cross entropy loss cannot deal with multiple MOAs for single sample, not sure how to handle**\n",
        "  \n"
      ]
    },
    {
      "cell_type": "markdown",
      "metadata": {
        "id": "RKGiA_u7hPM8",
        "colab_type": "text"
      },
      "source": [
        "# Load Data"
      ]
    },
    {
      "cell_type": "code",
      "metadata": {
        "id": "uioO3ELYeWW7",
        "colab_type": "code",
        "colab": {}
      },
      "source": [
        "\"\"\"\n",
        "Data loader for achilles dataset run this file and look at __main__ for \n",
        "example of how to use\n",
        "\"\"\"\n",
        "\n",
        "\"\"\"\n",
        "Specify files here\n",
        "axis_val : dict( include_val:path_in_data_dir )\n",
        "\"\"\"\n",
        "DATASETS = {\n",
        "  \"cell_line\": {\n",
        "    \"crispr\": \"imputed_crispr.npy\", \n",
        "    \"gene_expr\": \"norm_imputed_expression.npy\", \n",
        "    #\"pca_crispr\": , # TODO\n",
        "  },\n",
        "  \"drug\": {\n",
        "    \"response\": \"drug/drug_only_overlap/norm_ov_dose_resp.npy\",\n",
        "    #\"moa\": \"\" # TODO\n",
        "  }\n",
        "}\n",
        "GENE_LIST_FN = \"clean_gene_list.npy\"\n",
        "CELL_LINES_FN = \"clean_cell_lines.npy\"\n",
        "to_tensor = transforms.ToTensor()\n",
        "\n",
        "class AchillesDataset(Dataset):\n",
        "\n",
        "  def __init__(\n",
        "    self, \n",
        "    data_fp=\"/content/drive/My Drive/Mr RIDC/Data\",\n",
        "    axis=\"cell_line\",\n",
        "    datasets=[\"crispr\"],\n",
        "    drug_feature_fp=None, # TODO replace with drug_features enum\n",
        "    drug_feature_cell_fp=None\n",
        "  ):\n",
        "    \"\"\"\n",
        "    data_fp: path to directory that holds all of the data_files.\n",
        "             Default is for collab. If running locally, must change\n",
        "    axis: what one item is, must be \"cell_line\" or \"drug\"\n",
        "          eg. if \"cell_line\", __getitem__ returns the crispr, rna for 1 cell line\n",
        "    datasets: list of data types to include in output, different possible values \n",
        "              for depending on axis. To reduce memory usage, only include the data\n",
        "              types you will actually use\n",
        "    drug_feature_fp: path to .npy file where rows are cell lines and columns are\n",
        "                     features\n",
        "    drug_feature_cell_fp: cell ids in the order of rows of drug_feature_fp\n",
        "    \"\"\"\n",
        "    self.axis = axis\n",
        "    self.datasets = datasets\n",
        "    if axis not in DATASETS.keys():\n",
        "      raise ValueError(f\"axis must be one of {DATASETS.keys()}\")\n",
        "    if any([ds not in DATASETS[axis].keys() for ds in datasets]):\n",
        "      raise ValueError(f\"datasets param must be in {DATASETS[axis].keys()}\")\n",
        "    are_drug_features = drug_feature_fp is not None and drug_feature_cell_fp is not None\n",
        "    self.are_drug_features = are_drug_features\n",
        "    if axis != \"drug\" and are_drug_features:\n",
        "      raise ValueError(\"Can't use drug features unless we are iterating over drugs\")\n",
        "\n",
        "    # Maps from dataset to a tensor where each row represents a data point\n",
        "    self.ds2table = {}\n",
        "    \n",
        "    if axis == \"cell_line\":\n",
        "      for ds in datasets:\n",
        "        numpy_fp = path.join(data_fp, DATASETS[axis][ds])\n",
        "        self.ds2table[ds] = torch.squeeze(to_tensor(np.load(numpy_fp)))\n",
        "      if \"crispr\" in datasets and \"gene_expr\" in datasets:\n",
        "        crispr = self.ds2table[\"crispr\"]\n",
        "        expr = self.ds2table[\"gene_expr\"]\n",
        "        combined = np.stack([crispr, expr]).transpose((1,0,2))\n",
        "        self.datasets.append(\"crispr_gene_expr\")\n",
        "        self.ds2table[\"crispr_gene_expr\"] = combined\n",
        "      # Read in metadata\n",
        "      self.genes = np.load(path.join(data_fp, GENE_LIST_FN), allow_pickle=True)\n",
        "      self.cells = np.load(path.join(data_fp, CELL_LINES_FN), allow_pickle=True)\n",
        "    elif axis == \"drug\":\n",
        "      # Drug response table\n",
        "      self.drug_response = torch.squeeze(to_tensor(np.load(\n",
        "        path.join(data_fp, \"drug/drug_only_overlap/ov_dose_resp.npy\"))))\n",
        "      self.resp_broad_ids = np.load(\n",
        "        path.join(data_fp, \"drug/drug_only_overlap/ov_resp_drug.npy\"))\n",
        "\n",
        "      # Drug info table\n",
        "      self.drug2moa_inds = pickle.load(\n",
        "        open(path.join(data_fp, \"drug/drug_only_overlap/drug2moa_inds.pi\"), \"rb\")\n",
        "      )\n",
        "      self.moa_broad_ids = np.load(\n",
        "        path.join(data_fp, \"drug/drug_only_overlap/moa_broad_ids.npy\"),\n",
        "        allow_pickle=True\n",
        "      )\n",
        "      self.moas = np.load(\n",
        "        path.join(data_fp, \"drug/drug_only_overlap/moas.npy\"),\n",
        "        allow_pickle=True\n",
        "      )\n",
        "      self.cells = np.load(\n",
        "        path.join(data_fp, \"drug/drug_only_overlap/ov_resp_cell.npy\"),\n",
        "        allow_pickle=True\n",
        "      )\n",
        "      self.ds2table[\"response\"] = self.drug_response\n",
        "\n",
        "      if self.are_drug_features:\n",
        "        # Read in drug feature vector table\n",
        "        self.drug_feature = np.load(drug_feature_fp)\n",
        "        self.drug_feature_cells = np.load(drug_feature_cell_fp, allow_pickle=True)\n",
        "\n",
        "        # Get overlapping cells, only keep drug responses, features for those\n",
        "        ov_cells = np.array(list(set(self.cells) & set(self.drug_feature_cells)))\n",
        "        response_keep_inds = np.where(np.isin(self.cells, ov_cells))[0]\n",
        "        feature_keep_inds = np.where(np.isin(self.drug_feature_cells, ov_cells))[0]\n",
        "\n",
        "        # drug response holds the dosage which doesn't map to a cell line\n",
        "        # saving it for later\n",
        "        dosage = self.drug_response[:, 0]\n",
        "        self.drug_response = self.drug_response[:, response_keep_inds]\n",
        "        self.drug_feature = self.drug_feature[feature_keep_inds, :]\n",
        "\n",
        "        self.cells = self.cells[response_keep_inds]\n",
        "        self.drug_feature_cells = self.drug_feature_cells[feature_keep_inds]\n",
        "\n",
        "        # Make order of responses, features match\n",
        "        feature_sort_inds = np.argsort(self.drug_feature_cells)\n",
        "        response_sort_inds = np.argsort(self.cells)\n",
        "\n",
        "        self.cells = self.cells[response_sort_inds]\n",
        "        self.drug_response = self.drug_response[:,response_sort_inds]\n",
        "\n",
        "        self.drug_feature_cells = self.drug_feature_cells[feature_sort_inds]\n",
        "        self.drug_feature = self.drug_feature[feature_sort_inds, :]\n",
        "\n",
        "        # concatenate dosage back into drug response\n",
        "        self.drug_response = np.concatenate([dosage[:,np.newaxis], self.drug_response], axis=1)\n",
        "\n",
        "        # Stack the features onto our drug response matrix\n",
        "        # For now, replicating the dosage value accross all features\n",
        "        n_drug = self.drug_response.shape[0]\n",
        "        n_feat = self.drug_feature.shape[1]\n",
        "        stack_features = np.tile(self.drug_feature, (n_drug, 1, 1))\n",
        "        dosage = np.array(dosage)\n",
        "        stack_dosage = np.tile(dosage[:,np.newaxis], (1,1,n_feat)).transpose((1,0,2))\n",
        "        to_stack = np.concatenate((stack_dosage, stack_features), axis=1)\n",
        "        self.drug_response = np.concatenate(\n",
        "          (self.drug_response[:,:,np.newaxis], to_stack), axis=2)\n",
        "        #dosage_stack = np.tile(dosage[:,np.newaxis])\n",
        "        #stack_features = np.concate([np.zeros])\n",
        "    \n",
        "\n",
        "  def __len__(self):\n",
        "    if self.axis == \"cell_line\":\n",
        "      return self.ds2table[self.datasets[0]].shape[0]\n",
        "    else:\n",
        "      return self.drug_response.shape[0]\n",
        "\n",
        "  def __getitem__(self, idx):\n",
        "    if torch.is_tensor(idx):\n",
        "      idx = idx.tolist()\n",
        "\n",
        "    out_dict = {}\n",
        "    if self.axis == \"cell_line\":\n",
        "      for ds in self.datasets:\n",
        "        tbl = self.ds2table[ds]\n",
        "        if len(tbl.shape) == 2:\n",
        "          out_dict[ds] = tbl[idx, :]\n",
        "        elif len(tbl.shape) == 3:\n",
        "          out_dict[ds] = tbl[idx, :, :]\n",
        "    else:\n",
        "      drug = self.resp_broad_ids[idx]\n",
        "      moa_inds = self.drug2moa_inds[drug]\n",
        "      if self.are_drug_features:\n",
        "        response = self.drug_response[idx,:,:]\n",
        "      else:\n",
        "        response = self.drug_response[idx,:]\n",
        "      out_dict = {\n",
        "        \"response\": response,\n",
        "        \"drug\": drug,\n",
        "        \"moa_ind\": torch.Tensor(moa_inds),\n",
        "      }\n",
        "\n",
        "    return out_dict\n"
      ],
      "execution_count": 0,
      "outputs": []
    },
    {
      "cell_type": "code",
      "metadata": {
        "id": "Swy2Y66mp1o0",
        "colab_type": "code",
        "outputId": "6d4481af-8e1d-440e-c0f4-ff60493b4861",
        "colab": {
          "base_uri": "https://localhost:8080/",
          "height": 1000
        }
      },
      "source": [
        "\n",
        "if __name__ == \"__main__\":\n",
        "  def drug_collate_fn(batch):\n",
        "    moas = []\n",
        "    for s in batch:\n",
        "      moas.append(s[\"moa_ind\"].int().tolist())\n",
        "      del s[\"moa_ind\"]\n",
        "    out_dict = default_collate(batch)\n",
        "    out_dict[\"moa_ind\"] = moas\n",
        "    return out_dict\n",
        "\n",
        "  print(\"----------Iterating over cell lines-----------\")\n",
        "  #DD = \"/Users/massoudmaher/Documents/Code/mr-ridc/data\"\n",
        "  DD = \"/content/drive/My Drive/Mr RIDC/Data\"\n",
        "\n",
        "  # cell_achilles_loader = DataLoader(cell_achilles, batch_size=4, shuffle=False)\n",
        "  # i = 0\n",
        "  # for batch in cell_achilles_loader:\n",
        "  #   print(\"batch[\\\"crispr\\\"].shape\")\n",
        "  #   print(batch[\"crispr\"].shape)\n",
        "  #   print(\"batch[\\\"gene_expr\\\"].shape\")\n",
        "  #   print(batch[\"gene_expr\"].shape)\n",
        "  #   print(\"batch[\\\"crispr_gene_expr\\\"].shape\")\n",
        "  #   print(batch[\"crispr_gene_expr\"].shape)\n",
        "\n",
        "  #   if i == 2:\n",
        "  #     break\n",
        "  #   i += 1\n",
        "\n",
        "  # print(\"cell_achilles.genes holds gene names in correct order\")\n",
        "  # print(cell_achilles.genes[:5])\n",
        "  # print(\"cell_achilles.cells holds cell line names in correct order\")\n",
        "  # print(cell_achilles.cells[:5])\n",
        "\n",
        "  print(\"\\n\\n----------Iterating over drugs----------\")\n",
        "  drug_achilles = AchillesDataset(\n",
        "    data_fp=DD,\n",
        "    axis=\"drug\",\n",
        "    datasets=[\"response\"]\n",
        "  )\n",
        "\n",
        "\n",
        "  drug_loader = DataLoader(drug_achilles, batch_size=4, shuffle=True, \n",
        "                           collate_fn=drug_collate_fn)\n",
        "  i = 0\n",
        "  for batch in drug_loader:\n",
        "    print(\"batch[\\\"response\\\"].shape\")\n",
        "    print(batch[\"response\"].shape)\n",
        "    print(\"First column is dosage!!!!\")\n",
        "\n",
        "    print(\"drug_achilles.cells holds cells in same order as batch[response] cols\")\n",
        "    print(drug_achilles.cells[:5])\n",
        "    print(\"note that drug_achilles.cells.shape is 1 less since the first column is dosage\")\n",
        "    print(drug_achilles.cells.shape)\n",
        "\n",
        "    print(\"batch[\\\"drug\\\"]\")\n",
        "    print(batch[\"drug\"])\n",
        "\n",
        "    print(\"batch[\\\"moa_ind\\\"]\")\n",
        "    moa_inds = batch[\"moa_ind\"]\n",
        "    print(moa_inds)\n",
        "\n",
        "    print(\"corresponding moas\")\n",
        "    print([drug_achilles.moas[list(i)] for i in moa_inds])\n",
        "\n",
        "\n",
        "    if i == 2:\n",
        "      break\n",
        "    i += 1\n",
        "  \n",
        "  print(\"\\n\\n----Iterating over drugs with feature vectors for each cell line CRISPR ONLY-----\")\n",
        "  print(\"The data was already subsetted by only taking cell lines and genes that overlap between crispr and RNA-seq\")\n",
        "  feat_drug_achilles = AchillesDataset(\n",
        "    data_fp=DD,\n",
        "    axis=\"drug\",\n",
        "    datasets=[\"response\"],\n",
        "    drug_feature_fp=path.join(DD, \"pca50_imputed_crispr.npy\"),\n",
        "    drug_feature_cell_fp=path.join(DD, \"clean_cell_lines.npy\")\n",
        "  )\n",
        "  feat_drug_loader = DataLoader(feat_drug_achilles, batch_size=4, shuffle=True, \n",
        "                                collate_fn=drug_collate_fn)\n",
        "  i = 0\n",
        "  for batch in feat_drug_loader:\n",
        "    print(\"batch[\\\"response\\\"].shape\")\n",
        "    print(batch[\"response\"].shape)\n",
        "    print(\"First column is dosage!!!!\")\n",
        "\n",
        "    if i == 2:\n",
        "      break\n",
        "    i += 1\n",
        "\n",
        "  # Garbage collect so we don't overload memory\n",
        "  feat_drug_achilles, feat_drug_loader = None, None\n",
        "  gc.collect()\n",
        "  print(\"\\n\\n----Iterating over drugs with feature vectors for each cell line EXPRESSION ONLY-----\")\n",
        "  print(\"The data was already subsetted by only taking cell lines and genes that overlap between crispr and RNA-seq\")\n",
        "  feat_drug_achilles = AchillesDataset(\n",
        "    data_fp=DD,\n",
        "    axis=\"drug\",\n",
        "    datasets=[\"response\"],\n",
        "    drug_feature_fp=path.join(DD, \"pca50_imp_expr.npy\"),\n",
        "    drug_feature_cell_fp=path.join(DD, \"clean_cell_lines.npy\")\n",
        "  )\n",
        "  feat_drug_loader = DataLoader(feat_drug_achilles, batch_size=4, shuffle=True, \n",
        "                                collate_fn=drug_collate_fn)\n",
        "  i = 0\n",
        "  for batch in feat_drug_loader:\n",
        "    print(\"batch[\\\"response\\\"].shape\")\n",
        "    print(batch[\"response\"].shape)\n",
        "    print(\"First column is dosage!!!!\")\n",
        "\n",
        "    if i == 2:\n",
        "      break\n",
        "    i += 1\n",
        "\n",
        "  #Garbage collect so we don't overload memory\n",
        "  feat_drug_achilles, feat_drug_loader = None, None\n",
        "  gc.collect()\n",
        "  print(\"\\n\\n----Iterating over drugs with feature vectors for each cell line CRISPR AND EXPRESSION-----\")\n",
        "  print(\"The data was already subsetted by only taking cell lines and genes that overlap between crispr and RNA-seq\")\n",
        "  feat_drug_achilles = AchillesDataset(\n",
        "    data_fp=DD,\n",
        "    axis=\"drug\",\n",
        "    datasets=[\"response\"],\n",
        "    drug_feature_fp=path.join(DD, \"pca50_imp_crispr_expr.npy\"),\n",
        "    drug_feature_cell_fp=path.join(DD, \"clean_cell_lines.npy\")\n",
        "  )\n",
        "  feat_drug_loader = DataLoader(feat_drug_achilles, batch_size=12, shuffle=True, \n",
        "                                collate_fn=drug_collate_fn)\n",
        "  i = 0\n",
        "  for batch in feat_drug_loader:\n",
        "    print(\"batch[\\\"response\\\"].shape\")\n",
        "    print(batch[\"response\"].shape)\n",
        "    print(\"First column is dosage!!!!\")\n",
        "\n",
        "    if i == 2:\n",
        "      break\n",
        "    i += 1\n"
      ],
      "execution_count": 0,
      "outputs": [
        {
          "output_type": "stream",
          "text": [
            "----------Iterating over cell lines-----------\n",
            "\n",
            "\n",
            "----------Iterating over drugs----------\n",
            "batch[\"response\"].shape\n",
            "torch.Size([4, 490])\n",
            "First column is dosage!!!!\n",
            "drug_achilles.cells holds cells in same order as batch[response] cols\n",
            "['ACH-000007' 'ACH-000008' 'ACH-000010_FAILED_STR' 'ACH-000011'\n",
            " 'ACH-000012']\n",
            "note that drug_achilles.cells.shape is 1 less since the first column is dosage\n",
            "(489,)\n",
            "batch[\"drug\"]\n",
            "['BRD-K16803204-001-01-6', 'BRD-K87909389-003-03-4', 'BRD-K75649340-001-13-1', 'BRD-K73303757-001-21-6']\n",
            "batch[\"moa_ind\"]\n",
            "[[66], [21], [377], [374]]\n",
            "corresponding moas\n",
            "[array(['JAK inhibitor'], dtype=object), array(['CDK inhibitor'], dtype=object), array(['purine antagonist'], dtype=object), array(['protein tyrosine kinase inhibitor'], dtype=object)]\n",
            "batch[\"response\"].shape\n",
            "torch.Size([4, 490])\n",
            "First column is dosage!!!!\n",
            "drug_achilles.cells holds cells in same order as batch[response] cols\n",
            "['ACH-000007' 'ACH-000008' 'ACH-000010_FAILED_STR' 'ACH-000011'\n",
            " 'ACH-000012']\n",
            "note that drug_achilles.cells.shape is 1 less since the first column is dosage\n",
            "(489,)\n",
            "batch[\"drug\"]\n",
            "['BRD-K58550667-001-08-7', 'BRD-K56981171-001-01-0', 'BRD-K33818169-003-04-6', 'BRD-A71033472-003-23-9']\n",
            "batch[\"moa_ind\"]\n",
            "[[327], [2, 36], [73], [188]]\n",
            "corresponding moas\n",
            "[array(['niacinamide phosphoribosyltransferase inhibitor'], dtype=object), array(['ALK tyrosine kinase receptor inhibitor', 'EGFR inhibitor'],\n",
            "      dtype=object), array(['LXR agonist'], dtype=object), array(['calcium channel blocker'], dtype=object)]\n",
            "batch[\"response\"].shape\n",
            "torch.Size([4, 490])\n",
            "First column is dosage!!!!\n",
            "drug_achilles.cells holds cells in same order as batch[response] cols\n",
            "['ACH-000007' 'ACH-000008' 'ACH-000010_FAILED_STR' 'ACH-000011'\n",
            " 'ACH-000012']\n",
            "note that drug_achilles.cells.shape is 1 less since the first column is dosage\n",
            "(489,)\n",
            "batch[\"drug\"]\n",
            "['BRD-K75037734-003-13-9', 'BRD-K42205652-001-02-7', 'BRD-K74501079-001-18-1', 'BRD-K03406345-001-27-8']\n",
            "batch[\"moa_ind\"]\n",
            "[[209], [401, 408], [165], [30]]\n",
            "corresponding moas\n",
            "[array(['cholinergic receptor agonist'], dtype=object), array(['src inhibitor', 'syk inhibitor'], dtype=object), array(['bacterial 50S ribosomal subunit inhibitor'], dtype=object), array(['DNA methyltransferase inhibitor'], dtype=object)]\n",
            "\n",
            "\n",
            "----Iterating over drugs with feature vectors for each cell line CRISPR ONLY-----\n",
            "The data was already subsetted by only taking cell lines and genes that overlap between crispr and RNA-seq\n",
            "batch[\"response\"].shape\n",
            "torch.Size([4, 339, 51])\n",
            "First column is dosage!!!!\n",
            "batch[\"response\"].shape\n",
            "torch.Size([4, 339, 51])\n",
            "First column is dosage!!!!\n",
            "batch[\"response\"].shape\n",
            "torch.Size([4, 339, 51])\n",
            "First column is dosage!!!!\n",
            "\n",
            "\n",
            "----Iterating over drugs with feature vectors for each cell line EXPRESSION ONLY-----\n",
            "The data was already subsetted by only taking cell lines and genes that overlap between crispr and RNA-seq\n",
            "batch[\"response\"].shape\n",
            "torch.Size([4, 339, 51])\n",
            "First column is dosage!!!!\n",
            "batch[\"response\"].shape\n",
            "torch.Size([4, 339, 51])\n",
            "First column is dosage!!!!\n",
            "batch[\"response\"].shape\n",
            "torch.Size([4, 339, 51])\n",
            "First column is dosage!!!!\n",
            "\n",
            "\n",
            "----Iterating over drugs with feature vectors for each cell line CRISPR AND EXPRESSION-----\n",
            "The data was already subsetted by only taking cell lines and genes that overlap between crispr and RNA-seq\n",
            "batch[\"response\"].shape\n",
            "torch.Size([12, 339, 51])\n",
            "First column is dosage!!!!\n",
            "batch[\"response\"].shape\n",
            "torch.Size([12, 339, 51])\n",
            "First column is dosage!!!!\n",
            "batch[\"response\"].shape\n",
            "torch.Size([12, 339, 51])\n",
            "First column is dosage!!!!\n"
          ],
          "name": "stdout"
        }
      ]
    },
    {
      "cell_type": "markdown",
      "metadata": {
        "id": "hitxc-eWhexJ",
        "colab_type": "text"
      },
      "source": [
        "# Scoring"
      ]
    },
    {
      "cell_type": "code",
      "metadata": {
        "id": "D9N7G2Wnhgjt",
        "colab_type": "code",
        "colab": {}
      },
      "source": [
        "def accuracy(preds, labels):\n",
        "  correct = 0\n",
        "  total = 0\n",
        "  for i in range(preds.shape[0]):\n",
        "    if torch.argmax(preds[i]) in (labels[i] == 1).nonzero().flatten():\n",
        "      correct += 1\n",
        "    total += 1\n",
        "  return correct/total\n"
      ],
      "execution_count": 0,
      "outputs": []
    },
    {
      "cell_type": "code",
      "metadata": {
        "id": "SmYS3MgHbX31",
        "colab_type": "code",
        "colab": {}
      },
      "source": [
        "# simple accuracy\n",
        "def pred_acc(preds, labels):\n",
        "  return torch.round(preds).eq(labels).sum().numpy()/len(labels)"
      ],
      "execution_count": 0,
      "outputs": []
    },
    {
      "cell_type": "markdown",
      "metadata": {
        "id": "9GbQOrsLhRtU",
        "colab_type": "text"
      },
      "source": [
        "# Classifier"
      ]
    },
    {
      "cell_type": "markdown",
      "metadata": {
        "id": "qoNQ8TMVCiPO",
        "colab_type": "text"
      },
      "source": [
        "## Nets"
      ]
    },
    {
      "cell_type": "code",
      "metadata": {
        "id": "-geZr38UhVDI",
        "colab_type": "code",
        "colab": {}
      },
      "source": [
        "def hot_encode_moa_batch(moa_batch):\n",
        "  moa_encoding_for_batch = []\n",
        "  # Each record in the batch will have a list of moa's\n",
        "  for moa_list in moa_batch:\n",
        "    moa_encoding = hot_encode_moa(moa_list)\n",
        "    moa_encoding_for_batch.append(moa_encoding)\n",
        "  return np.array(moa_encoding_for_batch)\n",
        "\n",
        "# Returns a one-hot encoded MOA list\n",
        "def hot_encode_moa(moa_list):\n",
        "  # How many moa's are there? 444\n",
        "  moa_vec = np.zeros((444,))\n",
        "  for moa_index in moa_list:\n",
        "    moa_vec[moa_index] = 1\n",
        "  return moa_vec"
      ],
      "execution_count": 0,
      "outputs": []
    },
    {
      "cell_type": "code",
      "metadata": {
        "id": "IM04P33tf0r3",
        "colab_type": "code",
        "colab": {}
      },
      "source": [
        "# If there can be more than one target it's called \"multi-label classification\"\n",
        "# Can we still use sigmoid?\n",
        "class VanillaClassifier(nn.Module):\n",
        "    #def __init__(self, batch_size, input_size, fc1_dim = 4000, fc2_dim = 500, fc3_dim = 100):\n",
        "    def __init__(self, batch_size, input_size, fc1_dim = 2000, fc2_dim = 4000, fc3_dim = 2000):\n",
        "        super().__init__()\n",
        "        self.layer1 = nn.Sequential(\n",
        "          nn.Linear(input_size, fc1_dim),\n",
        "          nn.ReLU(),\n",
        "          nn.Linear(fc1_dim, fc2_dim),\n",
        "          nn.ReLU(),\n",
        "          nn.Linear(fc2_dim, fc3_dim),\n",
        "          nn.ReLU(),\n",
        "          nn.Linear(fc3_dim, 444),\n",
        "          nn.Sigmoid()\n",
        "        )\n",
        "        self.shape = input_size\n",
        "        self.batch_size = batch_size\n",
        "\n",
        "    def forward(self, input_seq):\n",
        "      predictions = self.layer1(input_seq)\n",
        "      # predictions = predictions.view(self.batch_size, -1)\n",
        "      return predictions"
      ],
      "execution_count": 0,
      "outputs": []
    },
    {
      "cell_type": "code",
      "metadata": {
        "id": "KlLb2d-WEIqG",
        "colab_type": "code",
        "colab": {}
      },
      "source": [
        "class DeepClassifier(nn.Module):\n",
        "    #def __init__(self, batch_size, input_size, fc1_dim = 4000, fc2_dim = 500, fc3_dim = 100):\n",
        "    def __init__(self, batch_size, input_size, fc1_dim = 4000, fc2_dim = 3000, fc3_dim = 2500, fc4_dim=2200, fc5_dim=2000, fc6_dim=2000, fc7_dim=2000):\n",
        "        super().__init__()\n",
        "        self.layer1 = nn.Sequential(\n",
        "          nn.Linear(input_size, fc1_dim),\n",
        "          nn.ReLU(),\n",
        "          nn.Dropout(.2),\n",
        "          nn.Linear(fc1_dim, fc2_dim),\n",
        "          nn.ReLU(),\n",
        "          nn.Dropout(.2),\n",
        "          nn.Linear(fc2_dim, fc3_dim),\n",
        "          nn.ReLU(),\n",
        "          nn.Dropout(.2),\n",
        "          nn.Linear(fc3_dim, fc4_dim),\n",
        "          nn.ReLU(),\n",
        "          nn.Linear(fc4_dim, fc5_dim),\n",
        "          nn.ReLU(),\n",
        "          nn.Linear(fc5_dim, fc6_dim),\n",
        "          nn.ReLU(),\n",
        "          nn.Linear(fc6_dim, fc7_dim),\n",
        "          nn.ReLU(),\n",
        "          nn.Linear(fc7_dim, 444),\n",
        "          nn.Sigmoid()\n",
        "        )\n",
        "        self.shape = input_size\n",
        "        self.batch_size = batch_size\n",
        "\n",
        "    def forward(self, input_seq):\n",
        "      predictions = self.layer1(input_seq)\n",
        "      # predictions = predictions.view(self.batch_size, -1)\n",
        "      return predictions"
      ],
      "execution_count": 0,
      "outputs": []
    },
    {
      "cell_type": "code",
      "metadata": {
        "id": "FkkChundM1Tq",
        "colab_type": "code",
        "colab": {}
      },
      "source": [
        "class DeepClassifier2(nn.Module):\n",
        "    #def __init__(self, batch_size, input_size, fc1_dim = 4000, fc2_dim = 500, fc3_dim = 100):\n",
        "    #def __init__(self, batch_size, input_size, fc1_dim = 4000, fc2_dim = 3000, fc3_dim = 2500, fc4_dim=2200, fc5_dim=2000, fc6_dim=2000, fc7_dim=2000):\n",
        "    def __init__(self, batch_size, input_size, fc1_dim = 1000, fc2_dim = 2000, fc3_dim = 2500, fc4_dim=4000, fc5_dim=3000, fc6_dim=2000, fc7_dim=1000):\n",
        "        super().__init__()\n",
        "        self.layer1 = nn.Sequential(\n",
        "          nn.Linear(input_size, fc1_dim),\n",
        "          nn.LeakyReLU(),\n",
        "          nn.Dropout(.1),\n",
        "          nn.Linear(fc1_dim, fc2_dim),\n",
        "          nn.LeakyReLU(),\n",
        "          nn.Dropout(.1),\n",
        "          nn.Linear(fc2_dim, fc3_dim),\n",
        "          nn.LeakyReLU(),\n",
        "          nn.Dropout(.1),\n",
        "          nn.Linear(fc3_dim, fc4_dim),\n",
        "          nn.LeakyReLU(),\n",
        "          nn.Linear(fc4_dim, fc5_dim),\n",
        "          nn.LeakyReLU(),\n",
        "          nn.Linear(fc5_dim, fc6_dim),\n",
        "          nn.LeakyReLU(),\n",
        "          nn.Linear(fc6_dim, fc7_dim),\n",
        "          nn.LeakyReLU(),\n",
        "          nn.Linear(fc7_dim, 444),\n",
        "          nn.Softmax()\n",
        "        )\n",
        "        self.shape = input_size\n",
        "        self.batch_size = batch_size\n",
        "\n",
        "    def forward(self, input_seq):\n",
        "      predictions = self.layer1(input_seq)\n",
        "      # predictions = predictions.view(self.batch_size, -1)\n",
        "      return predictions"
      ],
      "execution_count": 0,
      "outputs": []
    },
    {
      "cell_type": "code",
      "metadata": {
        "id": "jAWElj-svSMJ",
        "colab_type": "code",
        "colab": {}
      },
      "source": [
        "import torch.nn.functional as F\n",
        "\n",
        "class ConvNet(nn.Module):\n",
        "    def __init__(self, batch_size, input_size):\n",
        "        super(ConvNet, self).__init__()\n",
        "        self.batch_size = batch_size\n",
        "        self.shape = input_size\n",
        "        self.conv1 = nn.Conv1d(339, 100, 3)\n",
        "        self.pool = nn.MaxPool2d(2, 2)\n",
        "        self.conv2 = nn.Conv1d(50, 25, 3)\n",
        "        self.fc1 = nn.Linear(132, 125)\n",
        "        self.fc2 = nn.Linear(125, 240)\n",
        "        self.fc3 = nn.Linear(240, 444)\n",
        "        self.out = nn.Softmax()\n",
        "\n",
        "    def forward(self, x):\n",
        "        x = self.pool(F.relu(self.conv1(x)))\n",
        "        x = self.pool(F.relu(self.conv2(x)))\n",
        "        x = x.view(self.batch_size, -1)\n",
        "        x = F.relu(self.fc1(x))\n",
        "        x = F.relu(self.fc2(x))\n",
        "        x = self.fc3(x)\n",
        "        x = self.out(x)\n",
        "        return x"
      ],
      "execution_count": 0,
      "outputs": []
    },
    {
      "cell_type": "code",
      "metadata": {
        "id": "U1AT7fGb7q5t",
        "colab_type": "code",
        "colab": {}
      },
      "source": [
        "import torch.nn.functional as F\n",
        "\n",
        "class ConvNet_feat(nn.Module):\n",
        "    def __init__(self, batch_size, input_size):\n",
        "        super(ConvNet_feat, self).__init__()\n",
        "        self.batch_size = batch_size\n",
        "        self.shape = input_size\n",
        "        self.conv1 = nn.Conv1d(339, 100, 3)\n",
        "        self.bn1 = nn.BatchNorm1d(100)\n",
        "        self.pool = nn.MaxPool2d(2, 2)\n",
        "        self.drop_layer = nn.Dropout(0.2)\n",
        "        self.conv2 = nn.Conv1d(50, 25, 3)\n",
        "        self.bn2 = nn.BatchNorm1d(25)\n",
        "        self.fc1 = nn.Linear(132, 125)\n",
        "        self.fc2 = nn.Linear(125, 240)\n",
        "        self.fc3 = nn.Linear(240, 444)\n",
        "        self.out = nn.Softmax()\n",
        "\n",
        "    def forward(self, x):\n",
        "        x = self.conv1(x)\n",
        "        x = self.pool(F.relu(self.bn1(x)))\n",
        "        x = self.conv2(x)\n",
        "        x = self.pool(F.relu(self.bn2(x)))\n",
        "        x = self.drop_layer(x)\n",
        "        x = x.view(self.batch_size, -1)\n",
        "        x = F.relu(self.fc1(x))\n",
        "        x = F.relu(self.fc2(x))\n",
        "        x = self.fc3(x)\n",
        "        x = self.out(x)\n",
        "        return x"
      ],
      "execution_count": 0,
      "outputs": []
    },
    {
      "cell_type": "code",
      "metadata": {
        "id": "18twVPVWwxfs",
        "colab_type": "code",
        "colab": {}
      },
      "source": [
        "import torch.nn.functional as F\n",
        "\n",
        "class ConvNet(nn.Module):\n",
        "    def __init__(self, batch_size, input_size):\n",
        "        super(ConvNet, self).__init__()\n",
        "        self.batch_size = batch_size\n",
        "        self.shape = input_size\n",
        "        #self.conv1 = nn.Conv1d(339, 100, 3)\n",
        "        self.conv1 = nn.Conv1d(490, 800, 1)\n",
        "        self.bn1 = nn.BatchNorm1d(800)\n",
        "        self.pool = nn.MaxPool2d(2, 2)\n",
        "        self.conv2 = nn.Conv1d(400, 490, 1)\n",
        "        self.bn2 = nn.BatchNorm1d(490)\n",
        "        self.fc1 = nn.Linear(3, 245)\n",
        "        self.fc2 = nn.Linear(245, 444)\n",
        "        #self.fc3 = nn.Linear(240, 444)\n",
        "        self.out = nn.Softmax()\n",
        "\n",
        "    def forward(self, x):\n",
        "        print(\"x.shape\")\n",
        "        print(x.shape)\n",
        "        x = x.view(-1, 490, 12)\n",
        "        x = self.conv1(x)\n",
        "        x = self.pool(F.relu(self.bn1(x)))\n",
        "        x = self.conv2(x)\n",
        "        x = self.pool(F.relu(self.bn2(x)))\n",
        "        #x = x.view(735, -1)\n",
        "        x = F.relu(self.fc1(x))\n",
        "        x = F.relu(self.fc2(x))\n",
        "        #x = self.fc3(x)\n",
        "        x = self.out(x)\n",
        "        return x"
      ],
      "execution_count": 0,
      "outputs": []
    },
    {
      "cell_type": "markdown",
      "metadata": {
        "id": "w6QmuB-H3kCm",
        "colab_type": "text"
      },
      "source": [
        "## Training function"
      ]
    },
    {
      "cell_type": "code",
      "metadata": {
        "id": "sM9CPsPEqNht",
        "colab_type": "code",
        "colab": {}
      },
      "source": [
        "def train(criterion, learningRate, batchSize, dataset, dropout = False, dropoutRate = 0, returnModel = True, testModel = False):\n",
        "  # set up data loader\n",
        "  trainSet, testSet = torch.utils.data.random_split(dataset, [9939, 2485])\n",
        "\n",
        "  trainLoader = DataLoader(trainSet, batch_size=batchSize, shuffle=True, \n",
        "                          collate_fn=drug_collate_fn, drop_last=True)\n",
        "\n",
        "  tensor_shape = iter(trainLoader).next()['response'].shape\n",
        "  print(tensor_shape)\n",
        "  shape = tensor_shape[1]\n",
        "  for i in tensor_shape[2:]:\n",
        "    shape = shape * i\n",
        "  returnObjects = []\n",
        "  \n",
        "  # CHANGE CLASSIFIER HERE\n",
        "  #classifier = DeepClassifier2(batchSize, shape).to(device)\n",
        "  classifier = DeepClassifier(batchSize, shape).to(device)\n",
        "  #classifier = VanillaClassifier(batchSize, shape).to(device)\n",
        "  #classifier = ConvNet(batchSize, shape).to(device)\n",
        "  #classifier = ConvNet_feat(batchSize, shape).to(device)\n",
        "\n",
        "\n",
        "  # hyper parameters\n",
        "  optimizer = torch.optim.Adam(classifier.parameters(), lr=learningRate)\n",
        "  epochs = 20\n",
        "\n",
        "  # training loop\n",
        "  losses_train = []\n",
        "  for i in tqdm(range(epochs)):\n",
        "    loss = 0 # For keeping variable in scope\n",
        "    for batch in trainLoader:\n",
        "      # USE FOR BCE\n",
        "      moa_hot_encoded = torch.tensor(hot_encode_moa_batch(batch['moa_ind'])).float().to(device)\n",
        "\n",
        "      #USE FOR CROSS ENTROPY\n",
        "      moa_hot_encoded = torch.tensor(hot_encode_moa_batch(batch['moa_ind']), dtype=torch.long).to(device)\n",
        "      dosage_drug_response = batch['response'].float().to(device)\n",
        "      dosage_drug_response[torch.isnan(dosage_drug_response)] = 0 # Sets nan's to 0\n",
        "      dosage_drug_response = dosage_drug_response.reshape(batchSize, -1) # for fc classifiers\n",
        "      optimizer.zero_grad()\n",
        "      preds = classifier(dosage_drug_response)\n",
        "\n",
        "      # USE FOR CROSS ENTROPY\n",
        "      #loss = criterion(preds, torch.max(moa_hot_encoded, 1)[1])\n",
        "      # USE FOR BINARY CROSS ENTROPY\n",
        "      loss = criterion(preds, moa_hot_encoded.float())\n",
        "\n",
        "      loss.backward()\n",
        "      optimizer.step()\n",
        "    losses_train.append(loss)\n",
        "    print(\"Epoch: \" + str(i) +\" Loss: \" + str(loss))\n",
        "\n",
        "  # graph loss\n",
        "  plt.plot(losses_train)\n",
        "  plt.title(\"Training Loss Per Epoch\")\n",
        "  plt.xlabel(\"Epoch\")\n",
        "  plt.ylabel(\"Loss\")\n",
        "  plt.show()\n",
        "\n",
        "  # test\n",
        "  if testModel == True:\n",
        "    testLoader = DataLoader(testSet, batch_size=batchSize, shuffle=True, \n",
        "                          collate_fn=drug_collate_fn, drop_last=True)\n",
        "    accuracy = test(testLoader, classifier, criterion, batchSize)\n",
        "    returnObjects.append(accuracy)\n",
        "\n",
        "  if returnModel == True:\n",
        "    returnObjects.append(classifier)\n",
        "\n",
        "  return returnObjects\n"
      ],
      "execution_count": 0,
      "outputs": []
    },
    {
      "cell_type": "code",
      "metadata": {
        "id": "1m4izWsrhnHJ",
        "colab_type": "code",
        "colab": {}
      },
      "source": [
        "def test(testLoader, classifier, criterion, batchSize):\n",
        "  losses_test = []\n",
        "  test_preds = torch.empty(0).to(device)\n",
        "  test_labels = torch.empty(0).to(device)\n",
        "  # Get validation accuracy\n",
        "  with torch.no_grad():\n",
        "    for batch in testLoader: \n",
        "        moa_hot_encoded = torch.tensor(hot_encode_moa_batch(batch['moa_ind'])).float().to(device)\n",
        "        #USE FOR CROSS ENTROPY\n",
        "        moa_hot_encoded = torch.tensor(hot_encode_moa_batch(batch['moa_ind']), dtype=torch.long).to(device)\n",
        "\n",
        "        dosage_drug_response = batch['response'].float().to(device)\n",
        "        dosage_drug_response[torch.isnan(dosage_drug_response)] = 0 # Sets nan's to 0\n",
        "        dosage_drug_response = dosage_drug_response.reshape(batchSize, -1) # for fc classifiers\n",
        "        preds = classifier(dosage_drug_response)\n",
        "        loss = criterion(preds, moa_hot_encoded.float())\n",
        "        # USE FOR CROSS ENTROPY\n",
        "        #loss = criterion(preds, torch.max(moa_hot_encoded, 1)[1])\n",
        "\n",
        "        test_preds = torch.cat((test_preds, preds.float()))\n",
        "        #moa_hot_encoded = torch.tensor(hot_encode_moa_batch(batch['moa_ind'])).float().to(device)\n",
        "        test_labels = torch.cat((test_labels, moa_hot_encoded.float()))\n",
        "  acc = accuracy(test_preds, test_labels)\n",
        "  \n",
        "  print (acc*100)\n",
        "  return acc"
      ],
      "execution_count": 0,
      "outputs": []
    },
    {
      "cell_type": "markdown",
      "metadata": {
        "id": "4Nhe2vEnJuiF",
        "colab_type": "text"
      },
      "source": [
        "## Train with Drug only"
      ]
    },
    {
      "cell_type": "markdown",
      "metadata": {
        "id": "3slPcMSiCqul",
        "colab_type": "text"
      },
      "source": [
        "### Deep net 2"
      ]
    },
    {
      "cell_type": "code",
      "metadata": {
        "id": "fFgb7m0DPjLa",
        "colab_type": "code",
        "outputId": "3bde4e53-f7b6-4dfe-c48f-33954b2056a6",
        "colab": {
          "base_uri": "https://localhost:8080/",
          "height": 726,
          "referenced_widgets": [
            "ff427887a7034ff3b70837e0f43dc09a",
            "fdf05fcd23af423fbd0e551e49b9bd04",
            "c420222e18a74fc99c6888673edd54e2",
            "87c0b8259dce49b2be9bf04db2a6b7e1",
            "34f7ef1e4bd945068faa0b81e6f27bbd",
            "742e8bb86f3c4e7fae12857d969ce15f",
            "5b7b3b42a1614c5d94abf59eb1afa31b",
            "f24660eb8d464a6eb81e84f5b3883186"
          ]
        }
      },
      "source": [
        "#Deep Network 2\n",
        "try:\n",
        "  del classifier\n",
        "  torch.cuda.empty_cache()\n",
        "  gc.collect()\n",
        "except:\n",
        "  pass\n",
        "classifierResults = train(nn.BCELoss(), .0001, 12, drug_achilles, testModel=True)"
      ],
      "execution_count": 0,
      "outputs": [
        {
          "output_type": "stream",
          "text": [
            "torch.Size([12, 490])\n"
          ],
          "name": "stdout"
        },
        {
          "output_type": "display_data",
          "data": {
            "application/vnd.jupyter.widget-view+json": {
              "model_id": "ff427887a7034ff3b70837e0f43dc09a",
              "version_minor": 0,
              "version_major": 2
            },
            "text/plain": [
              "HBox(children=(IntProgress(value=0, max=20), HTML(value='')))"
            ]
          },
          "metadata": {
            "tags": []
          }
        },
        {
          "output_type": "stream",
          "text": [
            "Epoch: 0 Loss: tensor(0.0144, device='cuda:0', grad_fn=<BinaryCrossEntropyBackward>)\n",
            "Epoch: 1 Loss: tensor(0.0184, device='cuda:0', grad_fn=<BinaryCrossEntropyBackward>)\n",
            "Epoch: 2 Loss: tensor(0.0218, device='cuda:0', grad_fn=<BinaryCrossEntropyBackward>)\n",
            "Epoch: 3 Loss: tensor(0.0188, device='cuda:0', grad_fn=<BinaryCrossEntropyBackward>)\n",
            "Epoch: 4 Loss: tensor(0.0150, device='cuda:0', grad_fn=<BinaryCrossEntropyBackward>)\n",
            "Epoch: 5 Loss: tensor(0.0133, device='cuda:0', grad_fn=<BinaryCrossEntropyBackward>)\n",
            "Epoch: 6 Loss: tensor(0.0168, device='cuda:0', grad_fn=<BinaryCrossEntropyBackward>)\n",
            "Epoch: 7 Loss: tensor(0.0143, device='cuda:0', grad_fn=<BinaryCrossEntropyBackward>)\n",
            "Epoch: 8 Loss: tensor(0.0134, device='cuda:0', grad_fn=<BinaryCrossEntropyBackward>)\n",
            "Epoch: 9 Loss: tensor(0.0161, device='cuda:0', grad_fn=<BinaryCrossEntropyBackward>)\n",
            "Epoch: 10 Loss: tensor(0.0114, device='cuda:0', grad_fn=<BinaryCrossEntropyBackward>)\n",
            "Epoch: 11 Loss: tensor(0.0143, device='cuda:0', grad_fn=<BinaryCrossEntropyBackward>)\n",
            "Epoch: 12 Loss: tensor(0.0148, device='cuda:0', grad_fn=<BinaryCrossEntropyBackward>)\n",
            "Epoch: 13 Loss: tensor(0.0175, device='cuda:0', grad_fn=<BinaryCrossEntropyBackward>)\n",
            "Epoch: 14 Loss: tensor(0.0146, device='cuda:0', grad_fn=<BinaryCrossEntropyBackward>)\n",
            "Epoch: 15 Loss: tensor(0.0128, device='cuda:0', grad_fn=<BinaryCrossEntropyBackward>)\n",
            "Epoch: 16 Loss: tensor(0.0136, device='cuda:0', grad_fn=<BinaryCrossEntropyBackward>)\n",
            "Epoch: 17 Loss: tensor(0.0124, device='cuda:0', grad_fn=<BinaryCrossEntropyBackward>)\n",
            "Epoch: 18 Loss: tensor(0.0070, device='cuda:0', grad_fn=<BinaryCrossEntropyBackward>)\n",
            "Epoch: 19 Loss: tensor(0.0050, device='cuda:0', grad_fn=<BinaryCrossEntropyBackward>)\n",
            "\n"
          ],
          "name": "stdout"
        },
        {
          "output_type": "display_data",
          "data": {
            "image/png": "[encoded data removed]",
            "text/plain": [
              "<Figure size 432x288 with 1 Axes>"
            ]
          },
          "metadata": {
            "tags": [],
            "needs_background": "light"
          }
        },
        {
          "output_type": "stream",
          "text": [
            "13.607085346215781\n"
          ],
          "name": "stdout"
        }
      ]
    },
    {
      "cell_type": "code",
      "metadata": {
        "id": "ydw7_ACOfZI2",
        "colab_type": "code",
        "outputId": "5f8a0717-d00a-4d8d-8fcc-72c9572ce93c",
        "colab": {
          "base_uri": "https://localhost:8080/",
          "height": 72
        }
      },
      "source": [
        "import pickle\n",
        "pickle.dump(classifierResults, open(path.join(DD, \"models/deep_net2.pickle\"), \"wb\"))"
      ],
      "execution_count": 0,
      "outputs": [
        {
          "output_type": "stream",
          "text": [
            "/usr/local/lib/python3.6/dist-packages/torch/storage.py:34: FutureWarning: pickle support for Storage will be removed in 1.5. Use `torch.save` instead\n",
            "  warnings.warn(\"pickle support for Storage will be removed in 1.5. Use `torch.save` instead\", FutureWarning)\n"
          ],
          "name": "stderr"
        }
      ]
    },
    {
      "cell_type": "markdown",
      "metadata": {
        "id": "_sxoibS5CHOp",
        "colab_type": "text"
      },
      "source": [
        "### Deep Net"
      ]
    },
    {
      "cell_type": "code",
      "metadata": {
        "id": "oRnldGO1IOH6",
        "colab_type": "code",
        "outputId": "15d1bfbe-1f1c-4bd6-dac4-445682b007bc",
        "colab": {
          "base_uri": "https://localhost:8080/",
          "height": 781,
          "referenced_widgets": [
            "c6cbec4476224931a0268d9b0f5357e7",
            "f90d4e9dca544452ac2e2d0b5e4b20be",
            "b477dbded2bd42998251f372b8207169",
            "460d94bdb06c4d5d912c8be2bf0dde9c",
            "bd3992fd10fe47228a4ceccdaeabeede",
            "9fbdd7f4b9d5436ea04bc1041d5967b1",
            "b9c4734d688c4578b7b7294e85da68d4",
            "ce8d9846275044b6a22054fbb3d6e01b"
          ]
        }
      },
      "source": [
        "#Deep Network\n",
        "try:\n",
        "  del classifier\n",
        "  torch.cuda.empty_cache()\n",
        "  gc.collect()\n",
        "except:\n",
        "  pass\n",
        "classifierResults = train(nn.BCELoss(), .0001, 12, drug_achilles, testModel=True)\n",
        "import pickle\n",
        "pickle.dump(classifierResults, open(path.join(DD, \"models/deep_net.pickle\"), \"wb\"))"
      ],
      "execution_count": 0,
      "outputs": [
        {
          "output_type": "stream",
          "text": [
            "torch.Size([12, 490])\n"
          ],
          "name": "stdout"
        },
        {
          "output_type": "display_data",
          "data": {
            "application/vnd.jupyter.widget-view+json": {
              "model_id": "c6cbec4476224931a0268d9b0f5357e7",
              "version_minor": 0,
              "version_major": 2
            },
            "text/plain": [
              "HBox(children=(IntProgress(value=0, max=20), HTML(value='')))"
            ]
          },
          "metadata": {
            "tags": []
          }
        },
        {
          "output_type": "stream",
          "text": [
            "Epoch: 0 Loss: tensor(0.0169, device='cuda:0', grad_fn=<BinaryCrossEntropyBackward>)\n",
            "Epoch: 1 Loss: tensor(0.0187, device='cuda:0', grad_fn=<BinaryCrossEntropyBackward>)\n",
            "Epoch: 2 Loss: tensor(0.0139, device='cuda:0', grad_fn=<BinaryCrossEntropyBackward>)\n",
            "Epoch: 3 Loss: tensor(0.0160, device='cuda:0', grad_fn=<BinaryCrossEntropyBackward>)\n",
            "Epoch: 4 Loss: tensor(0.0166, device='cuda:0', grad_fn=<BinaryCrossEntropyBackward>)\n",
            "Epoch: 5 Loss: tensor(0.0169, device='cuda:0', grad_fn=<BinaryCrossEntropyBackward>)\n",
            "Epoch: 6 Loss: tensor(0.0154, device='cuda:0', grad_fn=<BinaryCrossEntropyBackward>)\n",
            "Epoch: 7 Loss: tensor(0.0169, device='cuda:0', grad_fn=<BinaryCrossEntropyBackward>)\n",
            "Epoch: 8 Loss: tensor(0.0149, device='cuda:0', grad_fn=<BinaryCrossEntropyBackward>)\n",
            "Epoch: 9 Loss: tensor(0.0123, device='cuda:0', grad_fn=<BinaryCrossEntropyBackward>)\n",
            "Epoch: 10 Loss: tensor(0.0174, device='cuda:0', grad_fn=<BinaryCrossEntropyBackward>)\n",
            "Epoch: 11 Loss: tensor(0.0153, device='cuda:0', grad_fn=<BinaryCrossEntropyBackward>)\n",
            "Epoch: 12 Loss: tensor(0.0133, device='cuda:0', grad_fn=<BinaryCrossEntropyBackward>)\n",
            "Epoch: 13 Loss: tensor(0.0095, device='cuda:0', grad_fn=<BinaryCrossEntropyBackward>)\n",
            "Epoch: 14 Loss: tensor(0.0129, device='cuda:0', grad_fn=<BinaryCrossEntropyBackward>)\n",
            "Epoch: 15 Loss: tensor(0.0115, device='cuda:0', grad_fn=<BinaryCrossEntropyBackward>)\n",
            "Epoch: 16 Loss: tensor(0.0130, device='cuda:0', grad_fn=<BinaryCrossEntropyBackward>)\n",
            "Epoch: 17 Loss: tensor(0.0101, device='cuda:0', grad_fn=<BinaryCrossEntropyBackward>)\n",
            "Epoch: 18 Loss: tensor(0.0105, device='cuda:0', grad_fn=<BinaryCrossEntropyBackward>)\n",
            "Epoch: 19 Loss: tensor(0.0100, device='cuda:0', grad_fn=<BinaryCrossEntropyBackward>)\n",
            "\n"
          ],
          "name": "stdout"
        },
        {
          "output_type": "display_data",
          "data": {
            "image/png": "[encoded data removed]",
            "text/plain": [
              "<Figure size 432x288 with 1 Axes>"
            ]
          },
          "metadata": {
            "tags": [],
            "needs_background": "light"
          }
        },
        {
          "output_type": "stream",
          "text": [
            "13.929146537842191\n"
          ],
          "name": "stdout"
        },
        {
          "output_type": "stream",
          "text": [
            "/usr/local/lib/python3.6/dist-packages/torch/storage.py:34: FutureWarning: pickle support for Storage will be removed in 1.5. Use `torch.save` instead\n",
            "  warnings.warn(\"pickle support for Storage will be removed in 1.5. Use `torch.save` instead\", FutureWarning)\n"
          ],
          "name": "stderr"
        }
      ]
    },
    {
      "cell_type": "markdown",
      "metadata": {
        "id": "SQqCcgpcC4zP",
        "colab_type": "text"
      },
      "source": [
        "### Vanilla"
      ]
    },
    {
      "cell_type": "code",
      "metadata": {
        "id": "dCWoo9HgC7Iz",
        "colab_type": "code",
        "outputId": "d606852d-1c13-42fe-da47-397a1abe5f9f",
        "colab": {
          "base_uri": "https://localhost:8080/",
          "height": 781,
          "referenced_widgets": [
            "2bc0d93d1229418eb947676cf7106136",
            "e12d1de3c8ec49479c9474869c943081",
            "c96252cf47384e4b89fc2e5208421f50",
            "68eacf908c394eca904e1bcfa4633f5c",
            "c3cc50d563074b7b9e75919aa03767ff",
            "e7e5d65504344a76b69fd1032a48a0b2",
            "ec937a1bd0ec4b9bbb071c3936f8837b",
            "01c30bb2ec5a48a09460487d0fc709fb"
          ]
        }
      },
      "source": [
        "#Vanilla\n",
        "try:\n",
        "  del classifier\n",
        "  torch.cuda.empty_cache()\n",
        "  gc.collect()\n",
        "except:\n",
        "  pass\n",
        "classifierResults = train(nn.BCELoss(), .0001, 12, drug_achilles, testModel=True)\n",
        "import pickle\n",
        "pickle.dump(classifierResults, open(path.join(DD, \"models/norm_vanilla.pickle\"), \"wb\"))"
      ],
      "execution_count": 0,
      "outputs": [
        {
          "output_type": "stream",
          "text": [
            "torch.Size([12, 490])\n"
          ],
          "name": "stdout"
        },
        {
          "output_type": "display_data",
          "data": {
            "application/vnd.jupyter.widget-view+json": {
              "model_id": "2bc0d93d1229418eb947676cf7106136",
              "version_minor": 0,
              "version_major": 2
            },
            "text/plain": [
              "HBox(children=(IntProgress(value=0, max=20), HTML(value='')))"
            ]
          },
          "metadata": {
            "tags": []
          }
        },
        {
          "output_type": "stream",
          "text": [
            "Epoch: 0 Loss: tensor(0.0179, device='cuda:0', grad_fn=<BinaryCrossEntropyBackward>)\n",
            "Epoch: 1 Loss: tensor(0.0190, device='cuda:0', grad_fn=<BinaryCrossEntropyBackward>)\n",
            "Epoch: 2 Loss: tensor(0.0130, device='cuda:0', grad_fn=<BinaryCrossEntropyBackward>)\n",
            "Epoch: 3 Loss: tensor(0.0134, device='cuda:0', grad_fn=<BinaryCrossEntropyBackward>)\n",
            "Epoch: 4 Loss: tensor(0.0105, device='cuda:0', grad_fn=<BinaryCrossEntropyBackward>)\n",
            "Epoch: 5 Loss: tensor(0.0080, device='cuda:0', grad_fn=<BinaryCrossEntropyBackward>)\n",
            "Epoch: 6 Loss: tensor(0.0083, device='cuda:0', grad_fn=<BinaryCrossEntropyBackward>)\n",
            "Epoch: 7 Loss: tensor(0.0062, device='cuda:0', grad_fn=<BinaryCrossEntropyBackward>)\n",
            "Epoch: 8 Loss: tensor(0.0055, device='cuda:0', grad_fn=<BinaryCrossEntropyBackward>)\n",
            "Epoch: 9 Loss: tensor(0.0049, device='cuda:0', grad_fn=<BinaryCrossEntropyBackward>)\n",
            "Epoch: 10 Loss: tensor(0.0032, device='cuda:0', grad_fn=<BinaryCrossEntropyBackward>)\n",
            "Epoch: 11 Loss: tensor(0.0027, device='cuda:0', grad_fn=<BinaryCrossEntropyBackward>)\n",
            "Epoch: 12 Loss: tensor(0.0026, device='cuda:0', grad_fn=<BinaryCrossEntropyBackward>)\n",
            "Epoch: 13 Loss: tensor(0.0016, device='cuda:0', grad_fn=<BinaryCrossEntropyBackward>)\n",
            "Epoch: 14 Loss: tensor(0.0021, device='cuda:0', grad_fn=<BinaryCrossEntropyBackward>)\n",
            "Epoch: 15 Loss: tensor(0.0010, device='cuda:0', grad_fn=<BinaryCrossEntropyBackward>)\n",
            "Epoch: 16 Loss: tensor(0.0005, device='cuda:0', grad_fn=<BinaryCrossEntropyBackward>)\n",
            "Epoch: 17 Loss: tensor(0.0006, device='cuda:0', grad_fn=<BinaryCrossEntropyBackward>)\n",
            "Epoch: 18 Loss: tensor(0.0007, device='cuda:0', grad_fn=<BinaryCrossEntropyBackward>)\n",
            "Epoch: 19 Loss: tensor(0.0002, device='cuda:0', grad_fn=<BinaryCrossEntropyBackward>)\n",
            "\n"
          ],
          "name": "stdout"
        },
        {
          "output_type": "display_data",
          "data": {
            "image/png": "[encoded data removed]",
            "text/plain": [
              "<Figure size 432x288 with 1 Axes>"
            ]
          },
          "metadata": {
            "tags": [],
            "needs_background": "light"
          }
        },
        {
          "output_type": "stream",
          "text": [
            "23.10789049919485\n"
          ],
          "name": "stdout"
        },
        {
          "output_type": "stream",
          "text": [
            "/usr/local/lib/python3.6/dist-packages/torch/storage.py:34: FutureWarning: pickle support for Storage will be removed in 1.5. Use `torch.save` instead\n",
            "  warnings.warn(\"pickle support for Storage will be removed in 1.5. Use `torch.save` instead\", FutureWarning)\n"
          ],
          "name": "stderr"
        }
      ]
    },
    {
      "cell_type": "markdown",
      "metadata": {
        "id": "gyvcEiP3ISrU",
        "colab_type": "text"
      },
      "source": [
        "### CNN"
      ]
    },
    {
      "cell_type": "code",
      "metadata": {
        "id": "jhpYmjAh_eVZ",
        "colab_type": "code",
        "outputId": "7221000c-2657-4089-f4f0-e95f928e40c8",
        "colab": {
          "base_uri": "https://localhost:8080/",
          "height": 432,
          "referenced_widgets": [
            "8c8b689587a0406bb53ff211b2843f5f",
            "6dabeaac7d67400894b952c088b0b3b5",
            "b6b56b126ea74e23972f33ede8e46c5a",
            "be960ddaa2b244d7a19a97ba4ba250eb",
            "cacee5fe2beb42a6adfdc4f647ffb6f1",
            "05ce4b782e664ff0b11fbfb4be7a76a9",
            "53b7b490dac948da8cd8a42f60b6081a",
            "1af39b83bf0841fb89f0ab551199518e"
          ]
        }
      },
      "source": [
        "#CNN\n",
        "try:\n",
        "  del classifier\n",
        "  torch.cuda.empty_cache()\n",
        "  gc.collect()\n",
        "except:\n",
        "  pass\n",
        "classifierResults = train(nn.CrossEntropyLoss(), .001, 128, feat_drug_achilles, testModel=True)\n",
        "pickle.dump(classifierResults, open(path.join(DD, \"models/norm_cnn.pickle\"), \"wb\"))"
      ],
      "execution_count": 0,
      "outputs": [
        {
          "output_type": "stream",
          "text": [
            "torch.Size([128, 339, 51])\n"
          ],
          "name": "stdout"
        },
        {
          "output_type": "display_data",
          "data": {
            "application/vnd.jupyter.widget-view+json": {
              "model_id": "8c8b689587a0406bb53ff211b2843f5f",
              "version_minor": 0,
              "version_major": 2
            },
            "text/plain": [
              "HBox(children=(IntProgress(value=0, max=20), HTML(value='')))"
            ]
          },
          "metadata": {
            "tags": []
          }
        },
        {
          "output_type": "error",
          "ename": "RuntimeError",
          "evalue": "ignored",
          "traceback": [
            "\u001b[0;31m---------------------------------------------------------------------------\u001b[0m",
            "\u001b[0;31mRuntimeError\u001b[0m                              Traceback (most recent call last)",
            "\u001b[0;32m<ipython-input-23-b4c7fd2768b5>\u001b[0m in \u001b[0;36m<module>\u001b[0;34m()\u001b[0m\n\u001b[1;32m      5\u001b[0m \u001b[0;32mexcept\u001b[0m\u001b[0;34m:\u001b[0m\u001b[0;34m\u001b[0m\u001b[0;34m\u001b[0m\u001b[0m\n\u001b[1;32m      6\u001b[0m   \u001b[0;32mpass\u001b[0m\u001b[0;34m\u001b[0m\u001b[0;34m\u001b[0m\u001b[0m\n\u001b[0;32m----> 7\u001b[0;31m \u001b[0mclassifierResults\u001b[0m \u001b[0;34m=\u001b[0m \u001b[0mtrain\u001b[0m\u001b[0;34m(\u001b[0m\u001b[0mnn\u001b[0m\u001b[0;34m.\u001b[0m\u001b[0mCrossEntropyLoss\u001b[0m\u001b[0;34m(\u001b[0m\u001b[0;34m)\u001b[0m\u001b[0;34m,\u001b[0m \u001b[0;36m.001\u001b[0m\u001b[0;34m,\u001b[0m \u001b[0;36m128\u001b[0m\u001b[0;34m,\u001b[0m \u001b[0mfeat_drug_achilles\u001b[0m\u001b[0;34m,\u001b[0m \u001b[0mtestModel\u001b[0m\u001b[0;34m=\u001b[0m\u001b[0;32mTrue\u001b[0m\u001b[0;34m)\u001b[0m\u001b[0;34m\u001b[0m\u001b[0;34m\u001b[0m\u001b[0m\n\u001b[0m\u001b[1;32m      8\u001b[0m \u001b[0mpickle\u001b[0m\u001b[0;34m.\u001b[0m\u001b[0mdump\u001b[0m\u001b[0;34m(\u001b[0m\u001b[0mclassifierResults\u001b[0m\u001b[0;34m,\u001b[0m \u001b[0mopen\u001b[0m\u001b[0;34m(\u001b[0m\u001b[0mpath\u001b[0m\u001b[0;34m.\u001b[0m\u001b[0mjoin\u001b[0m\u001b[0;34m(\u001b[0m\u001b[0mDD\u001b[0m\u001b[0;34m,\u001b[0m \u001b[0;34m\"models/norm_cnn.pickle\"\u001b[0m\u001b[0;34m)\u001b[0m\u001b[0;34m,\u001b[0m \u001b[0;34m\"wb\"\u001b[0m\u001b[0;34m)\u001b[0m\u001b[0;34m)\u001b[0m\u001b[0;34m\u001b[0m\u001b[0;34m\u001b[0m\u001b[0m\n",
            "\u001b[0;32m<ipython-input-17-43bf9cd4751e>\u001b[0m in \u001b[0;36mtrain\u001b[0;34m(criterion, learningRate, batchSize, dataset, dropout, dropoutRate, returnModel, testModel)\u001b[0m\n\u001b[1;32m     44\u001b[0m       \u001b[0;31m#loss = criterion(preds, torch.max(moa_hot_encoded, 1)[1])\u001b[0m\u001b[0;34m\u001b[0m\u001b[0;34m\u001b[0m\u001b[0;34m\u001b[0m\u001b[0m\n\u001b[1;32m     45\u001b[0m       \u001b[0;31m# USE FOR BINARY CROSS ENTROPY\u001b[0m\u001b[0;34m\u001b[0m\u001b[0;34m\u001b[0m\u001b[0;34m\u001b[0m\u001b[0m\n\u001b[0;32m---> 46\u001b[0;31m       \u001b[0mloss\u001b[0m \u001b[0;34m=\u001b[0m \u001b[0mcriterion\u001b[0m\u001b[0;34m(\u001b[0m\u001b[0mpreds\u001b[0m\u001b[0;34m,\u001b[0m \u001b[0mmoa_hot_encoded\u001b[0m\u001b[0;34m.\u001b[0m\u001b[0mfloat\u001b[0m\u001b[0;34m(\u001b[0m\u001b[0;34m)\u001b[0m\u001b[0;34m)\u001b[0m\u001b[0;34m\u001b[0m\u001b[0;34m\u001b[0m\u001b[0m\n\u001b[0m\u001b[1;32m     47\u001b[0m \u001b[0;34m\u001b[0m\u001b[0m\n\u001b[1;32m     48\u001b[0m       \u001b[0mloss\u001b[0m\u001b[0;34m.\u001b[0m\u001b[0mbackward\u001b[0m\u001b[0;34m(\u001b[0m\u001b[0;34m)\u001b[0m\u001b[0;34m\u001b[0m\u001b[0;34m\u001b[0m\u001b[0m\n",
            "\u001b[0;32m/usr/local/lib/python3.6/dist-packages/torch/nn/modules/module.py\u001b[0m in \u001b[0;36m__call__\u001b[0;34m(self, *input, **kwargs)\u001b[0m\n\u001b[1;32m    548\u001b[0m             \u001b[0mresult\u001b[0m \u001b[0;34m=\u001b[0m \u001b[0mself\u001b[0m\u001b[0;34m.\u001b[0m\u001b[0m_slow_forward\u001b[0m\u001b[0;34m(\u001b[0m\u001b[0;34m*\u001b[0m\u001b[0minput\u001b[0m\u001b[0;34m,\u001b[0m \u001b[0;34m**\u001b[0m\u001b[0mkwargs\u001b[0m\u001b[0;34m)\u001b[0m\u001b[0;34m\u001b[0m\u001b[0;34m\u001b[0m\u001b[0m\n\u001b[1;32m    549\u001b[0m         \u001b[0;32melse\u001b[0m\u001b[0;34m:\u001b[0m\u001b[0;34m\u001b[0m\u001b[0;34m\u001b[0m\u001b[0m\n\u001b[0;32m--> 550\u001b[0;31m             \u001b[0mresult\u001b[0m \u001b[0;34m=\u001b[0m \u001b[0mself\u001b[0m\u001b[0;34m.\u001b[0m\u001b[0mforward\u001b[0m\u001b[0;34m(\u001b[0m\u001b[0;34m*\u001b[0m\u001b[0minput\u001b[0m\u001b[0;34m,\u001b[0m \u001b[0;34m**\u001b[0m\u001b[0mkwargs\u001b[0m\u001b[0;34m)\u001b[0m\u001b[0;34m\u001b[0m\u001b[0;34m\u001b[0m\u001b[0m\n\u001b[0m\u001b[1;32m    551\u001b[0m         \u001b[0;32mfor\u001b[0m \u001b[0mhook\u001b[0m \u001b[0;32min\u001b[0m \u001b[0mself\u001b[0m\u001b[0;34m.\u001b[0m\u001b[0m_forward_hooks\u001b[0m\u001b[0;34m.\u001b[0m\u001b[0mvalues\u001b[0m\u001b[0;34m(\u001b[0m\u001b[0;34m)\u001b[0m\u001b[0;34m:\u001b[0m\u001b[0;34m\u001b[0m\u001b[0;34m\u001b[0m\u001b[0m\n\u001b[1;32m    552\u001b[0m             \u001b[0mhook_result\u001b[0m \u001b[0;34m=\u001b[0m \u001b[0mhook\u001b[0m\u001b[0;34m(\u001b[0m\u001b[0mself\u001b[0m\u001b[0;34m,\u001b[0m \u001b[0minput\u001b[0m\u001b[0;34m,\u001b[0m \u001b[0mresult\u001b[0m\u001b[0;34m)\u001b[0m\u001b[0;34m\u001b[0m\u001b[0;34m\u001b[0m\u001b[0m\n",
            "\u001b[0;32m/usr/local/lib/python3.6/dist-packages/torch/nn/modules/loss.py\u001b[0m in \u001b[0;36mforward\u001b[0;34m(self, input, target)\u001b[0m\n\u001b[1;32m    930\u001b[0m     \u001b[0;32mdef\u001b[0m \u001b[0mforward\u001b[0m\u001b[0;34m(\u001b[0m\u001b[0mself\u001b[0m\u001b[0;34m,\u001b[0m \u001b[0minput\u001b[0m\u001b[0;34m,\u001b[0m \u001b[0mtarget\u001b[0m\u001b[0;34m)\u001b[0m\u001b[0;34m:\u001b[0m\u001b[0;34m\u001b[0m\u001b[0;34m\u001b[0m\u001b[0m\n\u001b[1;32m    931\u001b[0m         return F.cross_entropy(input, target, weight=self.weight,\n\u001b[0;32m--> 932\u001b[0;31m                                ignore_index=self.ignore_index, reduction=self.reduction)\n\u001b[0m\u001b[1;32m    933\u001b[0m \u001b[0;34m\u001b[0m\u001b[0m\n\u001b[1;32m    934\u001b[0m \u001b[0;34m\u001b[0m\u001b[0m\n",
            "\u001b[0;32m/usr/local/lib/python3.6/dist-packages/torch/nn/functional.py\u001b[0m in \u001b[0;36mcross_entropy\u001b[0;34m(input, target, weight, size_average, ignore_index, reduce, reduction)\u001b[0m\n\u001b[1;32m   2315\u001b[0m     \u001b[0;32mif\u001b[0m \u001b[0msize_average\u001b[0m \u001b[0;32mis\u001b[0m \u001b[0;32mnot\u001b[0m \u001b[0;32mNone\u001b[0m \u001b[0;32mor\u001b[0m \u001b[0mreduce\u001b[0m \u001b[0;32mis\u001b[0m \u001b[0;32mnot\u001b[0m \u001b[0;32mNone\u001b[0m\u001b[0;34m:\u001b[0m\u001b[0;34m\u001b[0m\u001b[0;34m\u001b[0m\u001b[0m\n\u001b[1;32m   2316\u001b[0m         \u001b[0mreduction\u001b[0m \u001b[0;34m=\u001b[0m \u001b[0m_Reduction\u001b[0m\u001b[0;34m.\u001b[0m\u001b[0mlegacy_get_string\u001b[0m\u001b[0;34m(\u001b[0m\u001b[0msize_average\u001b[0m\u001b[0;34m,\u001b[0m \u001b[0mreduce\u001b[0m\u001b[0;34m)\u001b[0m\u001b[0;34m\u001b[0m\u001b[0;34m\u001b[0m\u001b[0m\n\u001b[0;32m-> 2317\u001b[0;31m     \u001b[0;32mreturn\u001b[0m \u001b[0mnll_loss\u001b[0m\u001b[0;34m(\u001b[0m\u001b[0mlog_softmax\u001b[0m\u001b[0;34m(\u001b[0m\u001b[0minput\u001b[0m\u001b[0;34m,\u001b[0m \u001b[0;36m1\u001b[0m\u001b[0;34m)\u001b[0m\u001b[0;34m,\u001b[0m \u001b[0mtarget\u001b[0m\u001b[0;34m,\u001b[0m \u001b[0mweight\u001b[0m\u001b[0;34m,\u001b[0m \u001b[0;32mNone\u001b[0m\u001b[0;34m,\u001b[0m \u001b[0mignore_index\u001b[0m\u001b[0;34m,\u001b[0m \u001b[0;32mNone\u001b[0m\u001b[0;34m,\u001b[0m \u001b[0mreduction\u001b[0m\u001b[0;34m)\u001b[0m\u001b[0;34m\u001b[0m\u001b[0;34m\u001b[0m\u001b[0m\n\u001b[0m\u001b[1;32m   2318\u001b[0m \u001b[0;34m\u001b[0m\u001b[0m\n\u001b[1;32m   2319\u001b[0m \u001b[0;34m\u001b[0m\u001b[0m\n",
            "\u001b[0;32m/usr/local/lib/python3.6/dist-packages/torch/nn/functional.py\u001b[0m in \u001b[0;36mnll_loss\u001b[0;34m(input, target, weight, size_average, ignore_index, reduce, reduction)\u001b[0m\n\u001b[1;32m   2113\u001b[0m                          .format(input.size(0), target.size(0)))\n\u001b[1;32m   2114\u001b[0m     \u001b[0;32mif\u001b[0m \u001b[0mdim\u001b[0m \u001b[0;34m==\u001b[0m \u001b[0;36m2\u001b[0m\u001b[0;34m:\u001b[0m\u001b[0;34m\u001b[0m\u001b[0;34m\u001b[0m\u001b[0m\n\u001b[0;32m-> 2115\u001b[0;31m         \u001b[0mret\u001b[0m \u001b[0;34m=\u001b[0m \u001b[0mtorch\u001b[0m\u001b[0;34m.\u001b[0m\u001b[0m_C\u001b[0m\u001b[0;34m.\u001b[0m\u001b[0m_nn\u001b[0m\u001b[0;34m.\u001b[0m\u001b[0mnll_loss\u001b[0m\u001b[0;34m(\u001b[0m\u001b[0minput\u001b[0m\u001b[0;34m,\u001b[0m \u001b[0mtarget\u001b[0m\u001b[0;34m,\u001b[0m \u001b[0mweight\u001b[0m\u001b[0;34m,\u001b[0m \u001b[0m_Reduction\u001b[0m\u001b[0;34m.\u001b[0m\u001b[0mget_enum\u001b[0m\u001b[0;34m(\u001b[0m\u001b[0mreduction\u001b[0m\u001b[0;34m)\u001b[0m\u001b[0;34m,\u001b[0m \u001b[0mignore_index\u001b[0m\u001b[0;34m)\u001b[0m\u001b[0;34m\u001b[0m\u001b[0;34m\u001b[0m\u001b[0m\n\u001b[0m\u001b[1;32m   2116\u001b[0m     \u001b[0;32melif\u001b[0m \u001b[0mdim\u001b[0m \u001b[0;34m==\u001b[0m \u001b[0;36m4\u001b[0m\u001b[0;34m:\u001b[0m\u001b[0;34m\u001b[0m\u001b[0;34m\u001b[0m\u001b[0m\n\u001b[1;32m   2117\u001b[0m         \u001b[0mret\u001b[0m \u001b[0;34m=\u001b[0m \u001b[0mtorch\u001b[0m\u001b[0;34m.\u001b[0m\u001b[0m_C\u001b[0m\u001b[0;34m.\u001b[0m\u001b[0m_nn\u001b[0m\u001b[0;34m.\u001b[0m\u001b[0mnll_loss2d\u001b[0m\u001b[0;34m(\u001b[0m\u001b[0minput\u001b[0m\u001b[0;34m,\u001b[0m \u001b[0mtarget\u001b[0m\u001b[0;34m,\u001b[0m \u001b[0mweight\u001b[0m\u001b[0;34m,\u001b[0m \u001b[0m_Reduction\u001b[0m\u001b[0;34m.\u001b[0m\u001b[0mget_enum\u001b[0m\u001b[0;34m(\u001b[0m\u001b[0mreduction\u001b[0m\u001b[0;34m)\u001b[0m\u001b[0;34m,\u001b[0m \u001b[0mignore_index\u001b[0m\u001b[0;34m)\u001b[0m\u001b[0;34m\u001b[0m\u001b[0;34m\u001b[0m\u001b[0m\n",
            "\u001b[0;31mRuntimeError\u001b[0m: Expected object of scalar type Long but got scalar type Float for argument #2 'target' in call to _thnn_nll_loss_forward"
          ]
        }
      ]
    },
    {
      "cell_type": "code",
      "metadata": {
        "id": "rJvhn1q37leF",
        "colab_type": "code",
        "colab": {}
      },
      "source": [
        "#CNN\n",
        "try:\n",
        "  del classifier\n",
        "  torch.cuda.empty_cache()\n",
        "  gc.collect()\n",
        "except:\n",
        "  pass\n",
        "classifierResults = train(nn.BCELoss(), .0002, 12, feat_drug_achilles, testModel=True)"
      ],
      "execution_count": 0,
      "outputs": []
    },
    {
      "cell_type": "code",
      "metadata": {
        "id": "3wPMTNPvxt-w",
        "colab_type": "code",
        "colab": {}
      },
      "source": [
        "#CNN\n",
        "try:\n",
        "  del classifier\n",
        "  torch.cuda.empty_cache()\n",
        "  gc.collect()\n",
        "except:\n",
        "  pass\n",
        "classifierResults = train(nn.BCELoss(), .0002, 12, feat_drug_achilles, testModel=True)"
      ],
      "execution_count": 0,
      "outputs": []
    },
    {
      "cell_type": "code",
      "metadata": {
        "id": "htJv2StEJvtE",
        "colab_type": "code",
        "colab": {}
      },
      "source": [
        "#Vanilla Network\n",
        "try:\n",
        "  del classifier\n",
        "  torch.cuda.empty_cache()\n",
        "  gc.collect()\n",
        "except:\n",
        "  pass\n",
        "classifierResults = train(nn.BCELoss(), .0002, 12, drug_achilles, testModel=True)"
      ],
      "execution_count": 0,
      "outputs": []
    },
    {
      "cell_type": "code",
      "metadata": {
        "id": "yipNakcqLImT",
        "colab_type": "code",
        "colab": {}
      },
      "source": [
        "#Vanilla Network with Cross Entropy\n",
        "try:\n",
        "  del classifier\n",
        "  torch.cuda.empty_cache()\n",
        "  gc.collect()\n",
        "except:\n",
        "  pass\n",
        "classifierResults = train(nn.BCELoss(), .005, 48, drug_achilles, testModel=True)"
      ],
      "execution_count": 0,
      "outputs": []
    },
    {
      "cell_type": "code",
      "metadata": {
        "id": "iA_5OARMCxud",
        "colab_type": "code",
        "colab": {}
      },
      "source": [
        "#Vanilla Network with Cross Entropy\n",
        "try:\n",
        "  del classifier\n",
        "  torch.cuda.empty_cache()\n",
        "  gc.collect()\n",
        "except:\n",
        "  pass\n",
        "classifierResults = train(nn.CrossEntropyLoss(), .0002, 48, drug_achilles, testModel=True)"
      ],
      "execution_count": 0,
      "outputs": []
    },
    {
      "cell_type": "markdown",
      "metadata": {
        "id": "mqBP9FQiJqIq",
        "colab_type": "text"
      },
      "source": [
        "## Train with Drug + Feature"
      ]
    },
    {
      "cell_type": "markdown",
      "metadata": {
        "id": "XLzaMY3sUE4E",
        "colab_type": "text"
      },
      "source": [
        "### Vanilla"
      ]
    },
    {
      "cell_type": "code",
      "metadata": {
        "id": "C99A2QY0rDwm",
        "colab_type": "code",
        "colab": {}
      },
      "source": [
        "try:\n",
        "  del classifier\n",
        "  torch.cuda.empty_cache()\n",
        "  gc.collect()\n",
        "except:\n",
        "  pass\n",
        "classifierResults = train(nn.BCELoss(), .0002, 4, feat_drug_achilles, testModel=True)"
      ],
      "execution_count": 0,
      "outputs": []
    },
    {
      "cell_type": "markdown",
      "metadata": {
        "id": "h6_e78KaNZqk",
        "colab_type": "text"
      },
      "source": [
        "### Deep Net"
      ]
    },
    {
      "cell_type": "code",
      "metadata": {
        "id": "CawZsojBNYJB",
        "colab_type": "code",
        "colab": {}
      },
      "source": [
        "try:\n",
        "  del classifier\n",
        "  torch.cuda.empty_cache()\n",
        "  gc.collect()\n",
        "except:\n",
        "  pass\n",
        "classifierResults = train(nn.BCELoss(), .0001, 12, feat_drug_achilles, testModel=True)\n",
        "import pickle\n",
        "pickle.dump(classifierResults, open(path.join(DD, \"models/norm_pca_feat_deep.pickle\"), \"wb\"))"
      ],
      "execution_count": 0,
      "outputs": []
    },
    {
      "cell_type": "code",
      "metadata": {
        "id": "dw-13DM3hyQ4",
        "colab_type": "code",
        "colab": {}
      },
      "source": [
        "def saveModel(model, filename):\n",
        "  torch.save(model, \"/content/drive/My Drive/Mr RIDC/\" + filename)"
      ],
      "execution_count": 0,
      "outputs": []
    },
    {
      "cell_type": "code",
      "metadata": {
        "id": "POdEImDVhafY",
        "colab_type": "code",
        "colab": {}
      },
      "source": [
        "# Need to get data\n",
        "# Each batch has x records where x is batch_size\n",
        "# Each record has a drug string, an moa list, and \n",
        "# a response array of length 490 where the first record is the dosage\n",
        "# So really, response for 489 cell lines\n",
        "\n",
        "# May have to align with other sets in future that have fewer cell lines\n",
        "# Option to one-hot encode drug name to save that info to have for the network\n",
        "# Do we need to normalize dosage?\n",
        "# Create test set / test dataloader\n",
        "use_cuda = torch.cuda.is_available()\n",
        "device = torch.device(\"cuda:0\" if use_cuda else \"cpu\")\n",
        "\n",
        "\n",
        "# 80 - 20 Train/Test split\n",
        "train_set, val_set = torch.utils.data.random_split(feat_drug_achilles, [9939, 2485])\n",
        "batch_size = 4\n",
        "\n",
        "train_loader = DataLoader(train_set, batch_size=batch_size, shuffle=True, \n",
        "                          collate_fn=drug_collate_fn, drop_last=True)\n",
        "\n",
        "classifier = VanillaClassifier().to(device)\n",
        "loss_function = nn.BCELoss()\n",
        "optimizer = torch.optim.Adam(classifier.parameters(), lr=0.0002)\n",
        "epochs = 50\n",
        "\n",
        "\n",
        "losses_train = []\n",
        "for i in range(epochs):\n",
        "  loss = 0 # For keeping variable in scope\n",
        "  for batch in train_loader: \n",
        "    moa_hot_encoded = torch.tensor(hot_encode_moa_batch(batch['moa_ind'])).float().to(device)\n",
        "    dosage_drug_response = batch['response'].float().to(device)\n",
        "    dosage_drug_response[torch.isnan(dosage_drug_response)] = 0 # Sets nan's to 0\n",
        "    optimizer.zero_grad()\n",
        "    preds = classifier(dosage_drug_response.flatten())\n",
        "    loss = loss_function(preds, moa_hot_encoded)\n",
        "    loss.backward()\n",
        "    optimizer.step()\n",
        "  losses_train.append(loss)\n",
        "  print(\"Epoch: \" + str(i) +\" Loss: \" + str(loss))\n",
        "\n",
        "\n"
      ],
      "execution_count": 0,
      "outputs": []
    },
    {
      "cell_type": "code",
      "metadata": {
        "id": "-OUZAGSXhqLq",
        "colab_type": "code",
        "colab": {}
      },
      "source": [
        "plt.plot(losses_train)\n",
        "plt.title(\"Training Loss Per Epoch\")\n",
        "plt.xlabel(\"Epoch\")\n",
        "plt.ylabel(\"Loss\")\n",
        "plt.show()"
      ],
      "execution_count": 0,
      "outputs": []
    },
    {
      "cell_type": "code",
      "metadata": {
        "id": "-Hjfjz57scdd",
        "colab_type": "code",
        "colab": {}
      },
      "source": [
        ""
      ],
      "execution_count": 0,
      "outputs": []
    },
    {
      "cell_type": "markdown",
      "metadata": {
        "id": "AWXVqEZ7pIRq",
        "colab_type": "text"
      },
      "source": [
        "## Drug + autoencoded features"
      ]
    },
    {
      "cell_type": "markdown",
      "metadata": {
        "id": "LOD6RyfMWZmX",
        "colab_type": "text"
      },
      "source": [
        "### Vanilla"
      ]
    },
    {
      "cell_type": "code",
      "metadata": {
        "id": "Wj_EJNqwpKHD",
        "colab_type": "code",
        "colab": {}
      },
      "source": [
        "try:\n",
        "  del classifier\n",
        "  del feat_drug_achilles\n",
        "  torch.cuda.empty_cache()\n",
        "  gc.collect()\n",
        "except:\n",
        "  pass\n",
        "\n",
        "ae_feat_drug_achilles = AchillesDataset(\n",
        "    data_fp=DD,\n",
        "    axis=\"drug\",\n",
        "    datasets=[\"response\"],\n",
        "    drug_feature_fp=path.join(DD, \"v2_ae_cells.npy\"),\n",
        "    drug_feature_cell_fp=path.join(DD, \"clean_cell_lines.npy\")\n",
        ")\n",
        "\n",
        "aeFeatClassifierResults = train(nn.BCELoss(), .0002, 4, ae_feat_drug_achilles, testModel=True)\n",
        "pickle.dump(classifierResults, open(path.join(DD, \"models/norm_feat_ae_vanilla.pickle\"), \"wb\"))"
      ],
      "execution_count": 0,
      "outputs": []
    },
    {
      "cell_type": "markdown",
      "metadata": {
        "id": "QV5BoJHtwu1Z",
        "colab_type": "text"
      },
      "source": [
        "### Deep Net"
      ]
    },
    {
      "cell_type": "code",
      "metadata": {
        "id": "wRF8vh96ptzm",
        "colab_type": "code",
        "outputId": "2967653a-f3be-406d-bbed-5b545a729737",
        "colab": {
          "base_uri": "https://localhost:8080/",
          "height": 899,
          "referenced_widgets": [
            "85191b160eea43f184f35865d5743e3f",
            "fba09e728a384f29baa879519ae00281",
            "4c40f66a157d4415a77b5b6b4a0cfdf4",
            "fa7fafdcbd414b2bb5881140fd772009",
            "38b63a556d0b47238d0a138c53bd38f3",
            "65ed6782afb940a68ef5a7a4cb0a8e53",
            "81d861fbd06f41e990063115bc95a79e",
            "e67e4a3e70c141f7b130d4adf3609cd0"
          ]
        }
      },
      "source": [
        "try:\n",
        "  del classifier\n",
        "  del feat_drug_achilles\n",
        "  torch.cuda.empty_cache()\n",
        "  gc.collect()\n",
        "except:\n",
        "  pass\n",
        "\n",
        "DD = \"/content/drive/My Drive/Mr RIDC/Data\"\n",
        "def drug_collate_fn(batch):\n",
        "  moas = []\n",
        "  for s in batch:\n",
        "    moas.append(s[\"moa_ind\"].int().tolist())\n",
        "    del s[\"moa_ind\"]\n",
        "  out_dict = default_collate(batch)\n",
        "  out_dict[\"moa_ind\"] = moas\n",
        "  return out_dict\n",
        "ae_feat_drug_achilles = AchillesDataset(\n",
        "    data_fp=DD,\n",
        "    axis=\"drug\",\n",
        "    datasets=[\"response\"],\n",
        "    drug_feature_fp=path.join(DD, \"v2_ae_cells.npy\"),\n",
        "    drug_feature_cell_fp=path.join(DD, \"clean_cell_lines.npy\")\n",
        ")\n",
        "\n",
        "aeFeatClassifierResults = train(nn.BCELoss(), .0002, 4, ae_feat_drug_achilles, testModel=True)\n",
        "pickle.dump(classifierResults, open(path.join(DD, \"models/norm_feat_ae_deep_net.pickle\"), \"wb\"))"
      ],
      "execution_count": 19,
      "outputs": [
        {
          "output_type": "stream",
          "text": [
            "torch.Size([4, 339, 201])\n"
          ],
          "name": "stdout"
        },
        {
          "output_type": "display_data",
          "data": {
            "application/vnd.jupyter.widget-view+json": {
              "model_id": "85191b160eea43f184f35865d5743e3f",
              "version_minor": 0,
              "version_major": 2
            },
            "text/plain": [
              "HBox(children=(FloatProgress(value=0.0, max=20.0), HTML(value='')))"
            ]
          },
          "metadata": {
            "tags": []
          }
        },
        {
          "output_type": "stream",
          "text": [
            "Epoch: 0 Loss: tensor(0.2252, device='cuda:0', grad_fn=<BinaryCrossEntropyBackward>)\n",
            "Epoch: 1 Loss: tensor(0.2815, device='cuda:0', grad_fn=<BinaryCrossEntropyBackward>)\n",
            "Epoch: 2 Loss: tensor(0.2252, device='cuda:0', grad_fn=<BinaryCrossEntropyBackward>)\n",
            "Epoch: 3 Loss: tensor(0.2252, device='cuda:0', grad_fn=<BinaryCrossEntropyBackward>)\n",
            "Epoch: 4 Loss: tensor(0.2252, device='cuda:0', grad_fn=<BinaryCrossEntropyBackward>)\n",
            "Epoch: 5 Loss: tensor(0.2252, device='cuda:0', grad_fn=<BinaryCrossEntropyBackward>)\n",
            "Epoch: 6 Loss: tensor(0.2252, device='cuda:0', grad_fn=<BinaryCrossEntropyBackward>)\n",
            "Epoch: 7 Loss: tensor(0.2252, device='cuda:0', grad_fn=<BinaryCrossEntropyBackward>)\n",
            "Epoch: 8 Loss: tensor(0.4505, device='cuda:0', grad_fn=<BinaryCrossEntropyBackward>)\n",
            "Epoch: 9 Loss: tensor(0.2252, device='cuda:0', grad_fn=<BinaryCrossEntropyBackward>)\n",
            "Epoch: 10 Loss: tensor(0.2252, device='cuda:0', grad_fn=<BinaryCrossEntropyBackward>)\n",
            "Epoch: 11 Loss: tensor(0.2252, device='cuda:0', grad_fn=<BinaryCrossEntropyBackward>)\n",
            "Epoch: 12 Loss: tensor(0.2815, device='cuda:0', grad_fn=<BinaryCrossEntropyBackward>)\n",
            "Epoch: 13 Loss: tensor(0.2252, device='cuda:0', grad_fn=<BinaryCrossEntropyBackward>)\n",
            "Epoch: 14 Loss: tensor(0.2252, device='cuda:0', grad_fn=<BinaryCrossEntropyBackward>)\n",
            "Epoch: 15 Loss: tensor(0.2252, device='cuda:0', grad_fn=<BinaryCrossEntropyBackward>)\n",
            "Epoch: 16 Loss: tensor(0.2252, device='cuda:0', grad_fn=<BinaryCrossEntropyBackward>)\n",
            "Epoch: 17 Loss: tensor(0.2252, device='cuda:0', grad_fn=<BinaryCrossEntropyBackward>)\n",
            "Epoch: 18 Loss: tensor(0.2815, device='cuda:0', grad_fn=<BinaryCrossEntropyBackward>)\n",
            "Epoch: 19 Loss: tensor(0.2252, device='cuda:0', grad_fn=<BinaryCrossEntropyBackward>)\n",
            "\n"
          ],
          "name": "stdout"
        },
        {
          "output_type": "display_data",
          "data": {
            "image/png": "[encoded data removed]",
            "text/plain": [
              "<Figure size 432x288 with 1 Axes>"
            ]
          },
          "metadata": {
            "tags": [],
            "needs_background": "light"
          }
        },
        {
          "output_type": "stream",
          "text": [
            "0.322061191626409\n"
          ],
          "name": "stdout"
        },
        {
          "output_type": "error",
          "ename": "NameError",
          "evalue": "ignored",
          "traceback": [
            "\u001b[0;31m---------------------------------------------------------------------------\u001b[0m",
            "\u001b[0;31mNameError\u001b[0m                                 Traceback (most recent call last)",
            "\u001b[0;32m<ipython-input-19-5726b8a39568>\u001b[0m in \u001b[0;36m<module>\u001b[0;34m()\u001b[0m\n\u001b[1;32m     25\u001b[0m \u001b[0;34m\u001b[0m\u001b[0m\n\u001b[1;32m     26\u001b[0m \u001b[0maeFeatClassifierResults\u001b[0m \u001b[0;34m=\u001b[0m \u001b[0mtrain\u001b[0m\u001b[0;34m(\u001b[0m\u001b[0mnn\u001b[0m\u001b[0;34m.\u001b[0m\u001b[0mBCELoss\u001b[0m\u001b[0;34m(\u001b[0m\u001b[0;34m)\u001b[0m\u001b[0;34m,\u001b[0m \u001b[0;36m.0002\u001b[0m\u001b[0;34m,\u001b[0m \u001b[0;36m4\u001b[0m\u001b[0;34m,\u001b[0m \u001b[0mae_feat_drug_achilles\u001b[0m\u001b[0;34m,\u001b[0m \u001b[0mtestModel\u001b[0m\u001b[0;34m=\u001b[0m\u001b[0;32mTrue\u001b[0m\u001b[0;34m)\u001b[0m\u001b[0;34m\u001b[0m\u001b[0;34m\u001b[0m\u001b[0m\n\u001b[0;32m---> 27\u001b[0;31m \u001b[0mpickle\u001b[0m\u001b[0;34m.\u001b[0m\u001b[0mdump\u001b[0m\u001b[0;34m(\u001b[0m\u001b[0mclassifierResults\u001b[0m\u001b[0;34m,\u001b[0m \u001b[0mopen\u001b[0m\u001b[0;34m(\u001b[0m\u001b[0mpath\u001b[0m\u001b[0;34m.\u001b[0m\u001b[0mjoin\u001b[0m\u001b[0;34m(\u001b[0m\u001b[0mDD\u001b[0m\u001b[0;34m,\u001b[0m \u001b[0;34m\"models/norm_feat_ae_deep_net.pickle\"\u001b[0m\u001b[0;34m)\u001b[0m\u001b[0;34m,\u001b[0m \u001b[0;34m\"wb\"\u001b[0m\u001b[0;34m)\u001b[0m\u001b[0;34m)\u001b[0m\u001b[0;34m\u001b[0m\u001b[0;34m\u001b[0m\u001b[0m\n\u001b[0m",
            "\u001b[0;31mNameError\u001b[0m: name 'classifierResults' is not defined"
          ]
        }
      ]
    },
    {
      "cell_type": "code",
      "metadata": {
        "id": "uhvsdeChxCU0",
        "colab_type": "code",
        "colab": {}
      },
      "source": [
        ""
      ],
      "execution_count": 0,
      "outputs": []
    }
  ]
}